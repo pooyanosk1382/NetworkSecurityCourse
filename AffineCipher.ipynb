{
 "cells": [
  {
   "cell_type": "code",
   "execution_count": 17,
   "outputs": [],
   "source": [
    "# This code is developed by Pooyan :D"
   ],
   "metadata": {
    "collapsed": false,
    "pycharm": {
     "name": "#%%\n"
    }
   }
  },
  {
   "cell_type": "markdown",
   "source": [
    "# Affine Cipher\n",
    "The Affine cipher is a type of monoalphabetic substitution cipher, wherein each letter in an alphabet is mapped to its numeric equivalent, encrypted using a simple mathematical function, and converted back to a letter."
   ],
   "metadata": {
    "collapsed": false,
    "pycharm": {
     "name": "#%% md\n"
    }
   }
  },
  {
   "cell_type": "markdown",
   "source": [
    "Here we define the Affine encryption as a function to get a text and return its cipher text."
   ],
   "metadata": {
    "collapsed": false,
    "pycharm": {
     "name": "#%% md\n"
    }
   }
  },
  {
   "cell_type": "code",
   "execution_count": 18,
   "outputs": [
    {
     "data": {
      "text/plain": "'I'"
     },
     "execution_count": 18,
     "metadata": {},
     "output_type": "execute_result"
    }
   ],
   "source": [
    "def affineEncrypt(plainText, a, b):\n",
    "    plainText = plainText.upper()\n",
    "    cipherText = \"\"\n",
    "    for character in plainText:\n",
    "        if character.isalpha():\n",
    "            stayInAlphabet = a * ord(character) + b\n",
    "            while stayInAlphabet > ord('Z'):\n",
    "                stayInAlphabet -= 26\n",
    "            finalLetter = chr(stayInAlphabet)\n",
    "            cipherText += finalLetter\n",
    "        cipherText += \"\"\n",
    "    return cipherText\n",
    "affineEncrypt('i', 7, 4)"
   ],
   "metadata": {
    "collapsed": false,
    "pycharm": {
     "name": "#%%\n"
    }
   }
  },
  {
   "cell_type": "markdown",
   "source": [
    "As above, we can see that the encryption algorithm works correctly now we expand it for reading files and write its cipher text in another file."
   ],
   "metadata": {
    "collapsed": false,
    "pycharm": {
     "name": "#%% md\n"
    }
   }
  },
  {
   "cell_type": "code",
   "execution_count": 19,
   "outputs": [],
   "source": [
    "def caesarWriter(plainTextFile, CipherTextFile, a, b):\n",
    "    plainText = plainTextFile.read()\n",
    "    cipherText = affineEncrypt(plainText, a, b)\n",
    "    CipherTextFile.write(cipherText)"
   ],
   "metadata": {
    "collapsed": false,
    "pycharm": {
     "name": "#%%\n"
    }
   }
  },
  {
   "cell_type": "code",
   "execution_count": 20,
   "outputs": [],
   "source": [
    "plainTextFile = open(\"affinePlain.txt\", 'r')\n",
    "CipherTextFile = open(\"affineCipher.txt\", 'w')\n",
    "a, b = 7, 4\n",
    "caesarWriter(plainTextFile, CipherTextFile, a, b)"
   ],
   "metadata": {
    "collapsed": false,
    "pycharm": {
     "name": "#%%\n"
    }
   }
  },
  {
   "cell_type": "markdown",
   "source": [
    "Now we need to define a decryption function."
   ],
   "metadata": {
    "collapsed": false,
    "pycharm": {
     "name": "#%% md\n"
    }
   }
  }
 ],
 "metadata": {
  "kernelspec": {
   "display_name": "Python 3",
   "language": "python",
   "name": "python3"
  },
  "language_info": {
   "codemirror_mode": {
    "name": "ipython",
    "version": 2
   },
   "file_extension": ".py",
   "mimetype": "text/x-python",
   "name": "python",
   "nbconvert_exporter": "python",
   "pygments_lexer": "ipython2",
   "version": "2.7.6"
  }
 },
 "nbformat": 4,
 "nbformat_minor": 0
}