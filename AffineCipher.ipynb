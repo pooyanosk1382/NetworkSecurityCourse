{
 "cells": [
  {
   "cell_type": "code",
   "execution_count": 9,
   "outputs": [],
   "source": [
    "# This code is developed by Pooyan :D"
   ],
   "metadata": {
    "collapsed": false,
    "pycharm": {
     "name": "#%%\n"
    }
   }
  },
  {
   "cell_type": "markdown",
   "source": [
    "# Affine Cipher\n",
    "The Affine cipher is a type of monoalphabetic substitution cipher, wherein each letter in an alphabet is mapped to its numeric equivalent, encrypted using a simple mathematical function, and converted back to a letter."
   ],
   "metadata": {
    "collapsed": false,
    "pycharm": {
     "name": "#%% md\n"
    }
   }
  },
  {
   "cell_type": "markdown",
   "source": [
    "First define a function to remove all white spaces."
   ],
   "metadata": {
    "collapsed": false,
    "pycharm": {
     "name": "#%% md\n"
    }
   }
  },
  {
   "cell_type": "code",
   "execution_count": 10,
   "outputs": [],
   "source": [
    "def removeSpaces(text):\n",
    "    newText = \"\"\n",
    "    for i in text:\n",
    "        if i == \" \":\n",
    "            continue\n",
    "        else:\n",
    "            newText = newText + i\n",
    "    return newText"
   ],
   "metadata": {
    "collapsed": false,
    "pycharm": {
     "name": "#%%\n"
    }
   }
  },
  {
   "cell_type": "markdown",
   "source": [
    "Here we define the Affine encryption as a function to get a text and return its cipher text."
   ],
   "metadata": {
    "collapsed": false,
    "pycharm": {
     "name": "#%% md\n"
    }
   }
  },
  {
   "cell_type": "code",
   "execution_count": 11,
   "outputs": [
    {
     "data": {
      "text/plain": "'BGDDYBYCETGQYO'"
     },
     "execution_count": 11,
     "metadata": {},
     "output_type": "execute_result"
    }
   ],
   "source": [
    "def affineEncrypt(plainText, a, b):\n",
    "    a = ord(a) - ord('a')\n",
    "    b = ord(b) - ord('a')\n",
    "    plainText = removeSpaces(plainText)\n",
    "    plainText = plainText.upper()\n",
    "    cipherText = \"\"\n",
    "    for character in plainText:\n",
    "        if character.isalpha():\n",
    "            stayInAlphabet = a * ord(character) + b\n",
    "            while stayInAlphabet > ord('Z'):\n",
    "                stayInAlphabet -= 26\n",
    "            finalLetter = chr(stayInAlphabet)\n",
    "            cipherText += finalLetter\n",
    "        cipherText += \"\"\n",
    "    return cipherText\n",
    "affineEncrypt('hello how are you', 'h', 'e')"
   ],
   "metadata": {
    "collapsed": false,
    "pycharm": {
     "name": "#%%\n"
    }
   }
  },
  {
   "cell_type": "markdown",
   "source": [
    "As above, we can see that the encryption algorithm works correctly now we expand it for reading files and write its cipher text in another file."
   ],
   "metadata": {
    "collapsed": false,
    "pycharm": {
     "name": "#%% md\n"
    }
   }
  },
  {
   "cell_type": "code",
   "execution_count": 12,
   "outputs": [],
   "source": [
    "def affineWriter(plainTextFile, CipherTextFile, a, b):\n",
    "    plainText = plainTextFile.read()\n",
    "    cipherText = affineEncrypt(plainText, a, b)\n",
    "    CipherTextFile.write(cipherText)"
   ],
   "metadata": {
    "collapsed": false,
    "pycharm": {
     "name": "#%%\n"
    }
   }
  },
  {
   "cell_type": "code",
   "execution_count": 13,
   "outputs": [],
   "source": [
    "plainTextFile = open(\"affinePlain.txt\", 'r')\n",
    "CipherTextFile = open(\"affineCipher.txt\", 'w')\n",
    "a, b = 'h', 'e'\n",
    "affineWriter(plainTextFile, CipherTextFile, a, b)"
   ],
   "metadata": {
    "collapsed": false,
    "pycharm": {
     "name": "#%%\n"
    }
   }
  },
  {
   "cell_type": "markdown",
   "source": [
    "Now we need to define a decryption function.\n",
    "But before that we need to plot a table to specify the reverse of each number between 1 and 26. (As we know we can't use even number and 13 as a, so we don't need to determine that.)"
   ],
   "metadata": {
    "collapsed": false,
    "pycharm": {
     "name": "#%% md\n"
    }
   }
  },
  {
   "cell_type": "code",
   "execution_count": 14,
   "outputs": [
    {
     "data": {
      "text/plain": "{1: 1,\n 3: 9,\n 5: 21,\n 7: 15,\n 9: 3,\n 11: 19,\n 15: 7,\n 17: 23,\n 19: 11,\n 21: 5,\n 23: 17,\n 25: 25}"
     },
     "execution_count": 14,
     "metadata": {},
     "output_type": "execute_result"
    }
   ],
   "source": [
    "revers = {}\n",
    "for i in range(1, 26):\n",
    "    if i % 2 != 0 and i != 13:\n",
    "        for j in range(1, 26, 2):\n",
    "            if (i*j) % 26 == 1:\n",
    "                revers.__setitem__(i, j)\n",
    "revers"
   ],
   "metadata": {
    "collapsed": false,
    "pycharm": {
     "name": "#%%\n"
    }
   }
  },
  {
   "cell_type": "markdown",
   "source": [
    "Now we have the reverse of numbers define decryption."
   ],
   "metadata": {
    "collapsed": false,
    "pycharm": {
     "name": "#%% md\n"
    }
   }
  },
  {
   "cell_type": "code",
   "execution_count": 15,
   "outputs": [
    {
     "data": {
      "text/plain": "'ishaihaidhaahsidhaisdhi'"
     },
     "execution_count": 15,
     "metadata": {},
     "output_type": "execute_result"
    }
   ],
   "source": [
    "def affineDecrypt(cipherText, a, b):\n",
    "    a = ord(a) - ord('a')\n",
    "    b = ord(b) - ord('a')\n",
    "    cipherText = cipherText.lower()\n",
    "    plainText = \"\"\n",
    "    rev = revers.get(a)\n",
    "    for character in cipherText:\n",
    "        if character.isalpha():\n",
    "            stayInAlphabet = (rev * (ord(character) - ord('a') - b)) % 26\n",
    "            stayInAlphabet += ord('a')\n",
    "            finalLetter = chr(stayInAlphabet)\n",
    "            plainText += finalLetter\n",
    "        plainText += \"\"\n",
    "    return plainText\n",
    "affineDecrypt('IABEIBEIZBEEBAIZBEIAZBI', 'h', 'e')"
   ],
   "metadata": {
    "collapsed": false,
    "pycharm": {
     "name": "#%%\n"
    }
   }
  },
  {
   "cell_type": "markdown",
   "source": [
    "As above, we can see that the decryption algorithm works correctly now we can expand it for reading files and write its plain text in another file."
   ],
   "metadata": {
    "collapsed": false,
    "pycharm": {
     "name": "#%% md\n"
    }
   }
  },
  {
   "cell_type": "code",
   "execution_count": 16,
   "outputs": [],
   "source": [
    "# Hope you like it ;)"
   ],
   "metadata": {
    "collapsed": false,
    "pycharm": {
     "name": "#%%\n"
    }
   }
  }
 ],
 "metadata": {
  "kernelspec": {
   "display_name": "Python 3",
   "language": "python",
   "name": "python3"
  },
  "language_info": {
   "codemirror_mode": {
    "name": "ipython",
    "version": 2
   },
   "file_extension": ".py",
   "mimetype": "text/x-python",
   "name": "python",
   "nbconvert_exporter": "python",
   "pygments_lexer": "ipython2",
   "version": "2.7.6"
  }
 },
 "nbformat": 4,
 "nbformat_minor": 0
}