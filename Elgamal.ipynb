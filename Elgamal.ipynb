{
 "cells": [
  {
   "cell_type": "code",
   "execution_count": 1,
   "outputs": [],
   "source": [
    "# This code is developed by Pooyan :D"
   ],
   "metadata": {
    "collapsed": false,
    "pycharm": {
     "name": "#%%\n"
    }
   }
  },
  {
   "cell_type": "markdown",
   "source": [
    "In cryptography, the ElGamal encryption system is an asymmetric key encryption algorithm for public-key cryptography which is based on the Diffie–Hellman key exchange. It was described by Taher Elgamal in 1985."
   ],
   "metadata": {
    "collapsed": false,
    "pycharm": {
     "name": "#%% md\n"
    }
   }
  },
  {
   "cell_type": "code",
   "execution_count": 6,
   "outputs": [],
   "source": [
    "import random\n",
    "a = random.randint(2, 10)"
   ],
   "metadata": {
    "collapsed": false,
    "pycharm": {
     "name": "#%%\n"
    }
   }
  },
  {
   "cell_type": "markdown",
   "source": [
    "First we define a gcd function."
   ],
   "metadata": {
    "collapsed": false,
    "pycharm": {
     "name": "#%% md\n"
    }
   }
  },
  {
   "cell_type": "code",
   "execution_count": null,
   "outputs": [],
   "source": [
    "def gcd(a, b):\n",
    "    if a < b:\n",
    "        return gcd(b, a)\n",
    "    elif a % b == 0:\n",
    "        return b;\n",
    "    else:\n",
    "        return gcd(b, a % b)"
   ],
   "metadata": {
    "collapsed": false,
    "pycharm": {
     "name": "#%%\n"
    }
   }
  },
  {
   "cell_type": "code",
   "execution_count": 4,
   "outputs": [
    {
     "name": "stdout",
     "output_type": "stream",
     "text": [
      "Original Message : encryption\n",
      "g used :  11381956098651545999333912813064530879301841335809\n",
      "g^a used :  1715397307320944135664547604587112917581901235564\n",
      "g^k used :  15570764617394316527552381404415452691044364084859\n",
      "g^ak used :  6489563383086506050435470356662246176876836087034\n",
      "Decrypted Message : encryption\n"
     ]
    }
   ],
   "source": [
    "\n",
    "\n",
    "\n",
    "\n",
    "# Generating large random numbers\n",
    "def gen_key(q):\n",
    "\n",
    "    key = random.randint(10**20, q)\n",
    "    while gcd(q, key) != 1:\n",
    "        key = random.randint(10**20, q)\n",
    "\n",
    "    return key\n",
    "\n",
    "# Modular exponentiation\n",
    "def power(a, b, c):\n",
    "    x = 1\n",
    "    y = a\n",
    "\n",
    "    while b > 0:\n",
    "        if b % 2 != 0:\n",
    "            x = (x * y) % c\n",
    "        y = (y * y) % c\n",
    "        b = int(b / 2)\n",
    "\n",
    "    return x % c\n",
    "\n",
    "# Asymmetric encryption\n",
    "def encrypt(msg, q, h, g):\n",
    "\n",
    "    en_msg = []\n",
    "\n",
    "    k = gen_key(q)# Private key for sender\n",
    "    s = power(h, k, q)\n",
    "    p = power(g, k, q)\n",
    "\n",
    "    for i in range(0, len(msg)):\n",
    "        en_msg.append(msg[i])\n",
    "\n",
    "    print(\"g^k used : \", p)\n",
    "    print(\"g^ak used : \", s)\n",
    "    for i in range(0, len(en_msg)):\n",
    "        en_msg[i] = s * ord(en_msg[i])\n",
    "\n",
    "    return en_msg, p\n",
    "\n",
    "def decrypt(en_msg, p, key, q):\n",
    "\n",
    "    dr_msg = []\n",
    "    h = power(p, key, q)\n",
    "    for i in range(0, len(en_msg)):\n",
    "        dr_msg.append(chr(int(en_msg[i]/h)))\n",
    "\n",
    "    return dr_msg\n",
    "\n",
    "# Driver code\n",
    "def main():\n",
    "\n",
    "    msg = 'encryption'\n",
    "    print(\"Original Message :\", msg)\n",
    "\n",
    "    q = random.randint(10**20, 10**50)\n",
    "    g = random.randint(2, q)\n",
    "\n",
    "    key = gen_key(q)# Private key for receiver\n",
    "    h = power(g, key, q)\n",
    "    print(\"g used : \", g)\n",
    "    print(\"g^a used : \", h)\n",
    "\n",
    "    en_msg, p = encrypt(msg, q, h, g)\n",
    "    dr_msg = decrypt(en_msg, p, key, q)\n",
    "    dmsg = ''.join(dr_msg)\n",
    "    print(\"Decrypted Message :\", dmsg);\n",
    "\n",
    "\n",
    "if __name__ == '__main__':\n",
    "    main()"
   ],
   "metadata": {
    "collapsed": false,
    "pycharm": {
     "name": "#%%\n"
    }
   }
  },
  {
   "cell_type": "code",
   "execution_count": null,
   "outputs": [],
   "source": [],
   "metadata": {
    "collapsed": false,
    "pycharm": {
     "name": "#%%\n"
    }
   }
  }
 ],
 "metadata": {
  "kernelspec": {
   "display_name": "Python 3",
   "language": "python",
   "name": "python3"
  },
  "language_info": {
   "codemirror_mode": {
    "name": "ipython",
    "version": 2
   },
   "file_extension": ".py",
   "mimetype": "text/x-python",
   "name": "python",
   "nbconvert_exporter": "python",
   "pygments_lexer": "ipython2",
   "version": "2.7.6"
  }
 },
 "nbformat": 4,
 "nbformat_minor": 0
}