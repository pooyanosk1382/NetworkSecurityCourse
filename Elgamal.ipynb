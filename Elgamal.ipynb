{
 "cells": [
  {
   "cell_type": "code",
   "execution_count": 28,
   "outputs": [],
   "source": [
    "# This code is developed by Pooyan :D"
   ],
   "metadata": {
    "collapsed": false,
    "pycharm": {
     "name": "#%%\n"
    }
   }
  },
  {
   "cell_type": "markdown",
   "source": [
    "In cryptography, the ElGamal encryption system is an asymmetric key encryption algorithm for public-key cryptography which is based on the Diffie–Hellman key exchange. It was described by Taher Elgamal in 1985."
   ],
   "metadata": {
    "collapsed": false,
    "pycharm": {
     "name": "#%% md\n"
    }
   }
  },
  {
   "cell_type": "code",
   "execution_count": 29,
   "outputs": [],
   "source": [
    "import random\n",
    "a = random.randint(2, 10)"
   ],
   "metadata": {
    "collapsed": false,
    "pycharm": {
     "name": "#%%\n"
    }
   }
  },
  {
   "cell_type": "markdown",
   "source": [
    "First we define a gcd function."
   ],
   "metadata": {
    "collapsed": false,
    "pycharm": {
     "name": "#%% md\n"
    }
   }
  },
  {
   "cell_type": "code",
   "execution_count": 30,
   "outputs": [],
   "source": [
    "def gcd(a, b):\n",
    "    if a < b:\n",
    "        return gcd(b, a)\n",
    "    elif a % b == 0:\n",
    "        return b;\n",
    "    else:\n",
    "        return gcd(b, a % b)"
   ],
   "metadata": {
    "collapsed": false,
    "pycharm": {
     "name": "#%%\n"
    }
   }
  },
  {
   "cell_type": "markdown",
   "source": [
    "Now define a function to generate a large random number as keys."
   ],
   "metadata": {
    "collapsed": false,
    "pycharm": {
     "name": "#%% md\n"
    }
   }
  },
  {
   "cell_type": "code",
   "execution_count": 31,
   "outputs": [],
   "source": [
    "def gen_key(q):\n",
    "\n",
    "    key = random.randint(10**20, q)\n",
    "    while gcd(q, key) != 1:\n",
    "        key = random.randint(10**20, q)\n",
    "\n",
    "    return key"
   ],
   "metadata": {
    "collapsed": false,
    "pycharm": {
     "name": "#%%\n"
    }
   }
  },
  {
   "cell_type": "markdown",
   "source": [
    "Now define a modular power."
   ],
   "metadata": {
    "collapsed": false,
    "pycharm": {
     "name": "#%% md\n"
    }
   }
  },
  {
   "cell_type": "code",
   "execution_count": 32,
   "outputs": [],
   "source": [
    "def power(a, b, c):\n",
    "    x = 1\n",
    "    y = a\n",
    "\n",
    "    while b > 0:\n",
    "        if b % 2 != 0:\n",
    "            x = (x * y) % c\n",
    "        y = (y * y) % c\n",
    "        b = int(b / 2)\n",
    "\n",
    "    return x % c"
   ],
   "metadata": {
    "collapsed": false,
    "pycharm": {
     "name": "#%%\n"
    }
   }
  },
  {
   "cell_type": "markdown",
   "source": [
    "Now define an Asymmetric encryption."
   ],
   "metadata": {
    "collapsed": false,
    "pycharm": {
     "name": "#%% md\n"
    }
   }
  },
  {
   "cell_type": "code",
   "execution_count": 33,
   "outputs": [],
   "source": [
    "def encrypt(msg, q, h, g):\n",
    "\n",
    "    en_msg = []\n",
    "\n",
    "    k = gen_key(q)      # Private key for sender\n",
    "    s = power(h, k, q)\n",
    "    p = power(g, k, q)\n",
    "\n",
    "    for i in range(0, len(msg)):\n",
    "        en_msg.append(msg[i])\n",
    "\n",
    "    print(\"g^k used : \", p)\n",
    "    print(\"g^ak used : \", s)\n",
    "    for i in range(0, len(en_msg)):\n",
    "        en_msg[i] = s * ord(en_msg[i])\n",
    "\n",
    "    return en_msg, p"
   ],
   "metadata": {
    "collapsed": false,
    "pycharm": {
     "name": "#%%\n"
    }
   }
  },
  {
   "cell_type": "markdown",
   "source": [
    "And at last define decryption."
   ],
   "metadata": {
    "collapsed": false,
    "pycharm": {
     "name": "#%% md\n"
    }
   }
  },
  {
   "cell_type": "code",
   "execution_count": 34,
   "outputs": [],
   "source": [
    "def decrypt(en_msg, p, key, q):\n",
    "\n",
    "    dr_msg = []\n",
    "    h = power(p, key, q)\n",
    "    for i in range(0, len(en_msg)):\n",
    "        dr_msg.append(chr(int(en_msg[i]/h)))\n",
    "\n",
    "    return dr_msg"
   ],
   "metadata": {
    "collapsed": false,
    "pycharm": {
     "name": "#%%\n"
    }
   }
  },
  {
   "cell_type": "code",
   "execution_count": 37,
   "outputs": [
    {
     "name": "stdout",
     "output_type": "stream",
     "text": [
      "Original Message : pooyan\n",
      "g used :  3080728031765107248261607835287531980170052436178\n",
      "g^a used :  12119592984156860558411468211052016101769938541132\n",
      "g^k used :  19550753787227282644074090291857821238664705027128\n",
      "g^ak used :  9873443013825710638131473797485485699939312756996\n",
      "Decrypted Message : pooyan\n"
     ]
    }
   ],
   "source": [
    "msg = 'pooyan'\n",
    "print(\"Original Message :\", msg)\n",
    "\n",
    "q = random.randint(10**20, 10**50)\n",
    "g = random.randint(2, q)\n",
    "\n",
    "key = gen_key(q)                     # Private key for receiver\n",
    "h = power(g, key, q)\n",
    "print(\"g used : \", g)\n",
    "print(\"g^a used : \", h)\n",
    "\n",
    "en_msg, p = encrypt(msg, q, h, g)\n",
    "dr_msg = decrypt(en_msg, p, key, q)\n",
    "dmsg = ''.join(dr_msg)\n",
    "print(\"Decrypted Message :\", dmsg)"
   ],
   "metadata": {
    "collapsed": false,
    "pycharm": {
     "name": "#%%\n"
    }
   }
  },
  {
   "cell_type": "code",
   "execution_count": 35,
   "outputs": [],
   "source": [],
   "metadata": {
    "collapsed": false,
    "pycharm": {
     "name": "#%%\n"
    }
   }
  }
 ],
 "metadata": {
  "kernelspec": {
   "display_name": "Python 3",
   "language": "python",
   "name": "python3"
  },
  "language_info": {
   "codemirror_mode": {
    "name": "ipython",
    "version": 2
   },
   "file_extension": ".py",
   "mimetype": "text/x-python",
   "name": "python",
   "nbconvert_exporter": "python",
   "pygments_lexer": "ipython2",
   "version": "2.7.6"
  }
 },
 "nbformat": 4,
 "nbformat_minor": 0
}