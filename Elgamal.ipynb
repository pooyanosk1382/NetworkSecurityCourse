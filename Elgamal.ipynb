{
 "cells": [
  {
   "cell_type": "code",
   "execution_count": 38,
   "outputs": [],
   "source": [
    "# This code is developed by Pooyan :D"
   ],
   "metadata": {
    "collapsed": false,
    "pycharm": {
     "name": "#%%\n"
    }
   }
  },
  {
   "cell_type": "markdown",
   "source": [
    "In cryptography, the ElGamal encryption system is an asymmetric key encryption algorithm for public-key cryptography which is based on the Diffie–Hellman key exchange. It was described by Taher Elgamal in 1985."
   ],
   "metadata": {
    "collapsed": false,
    "pycharm": {
     "name": "#%% md\n"
    }
   }
  },
  {
   "cell_type": "code",
   "execution_count": 39,
   "outputs": [],
   "source": [
    "import random\n",
    "a = random.randint(2, 10)"
   ],
   "metadata": {
    "collapsed": false,
    "pycharm": {
     "name": "#%%\n"
    }
   }
  },
  {
   "cell_type": "markdown",
   "source": [
    "First we define a gcd function."
   ],
   "metadata": {
    "collapsed": false,
    "pycharm": {
     "name": "#%% md\n"
    }
   }
  },
  {
   "cell_type": "code",
   "execution_count": 40,
   "outputs": [],
   "source": [
    "def gcd(a, b):\n",
    "    if a < b:\n",
    "        return gcd(b, a)\n",
    "    elif a % b == 0:\n",
    "        return b;\n",
    "    else:\n",
    "        return gcd(b, a % b)"
   ],
   "metadata": {
    "collapsed": false,
    "pycharm": {
     "name": "#%%\n"
    }
   }
  },
  {
   "cell_type": "markdown",
   "source": [
    "Now define a function to generate a large random number as keys."
   ],
   "metadata": {
    "collapsed": false,
    "pycharm": {
     "name": "#%% md\n"
    }
   }
  },
  {
   "cell_type": "code",
   "execution_count": 41,
   "outputs": [],
   "source": [
    "def gen_key(q):\n",
    "\n",
    "    key = random.randint(10**20, q)\n",
    "    while gcd(q, key) != 1:\n",
    "        key = random.randint(10**20, q)\n",
    "\n",
    "    return key"
   ],
   "metadata": {
    "collapsed": false,
    "pycharm": {
     "name": "#%%\n"
    }
   }
  },
  {
   "cell_type": "markdown",
   "source": [
    "Now define a modular power."
   ],
   "metadata": {
    "collapsed": false,
    "pycharm": {
     "name": "#%% md\n"
    }
   }
  },
  {
   "cell_type": "code",
   "execution_count": 42,
   "outputs": [],
   "source": [
    "def power(a, b, c):\n",
    "    x = 1\n",
    "    y = a\n",
    "\n",
    "    while b > 0:\n",
    "        if b % 2 != 0:\n",
    "            x = (x * y) % c\n",
    "        y = (y * y) % c\n",
    "        b = int(b / 2)\n",
    "\n",
    "    return x % c"
   ],
   "metadata": {
    "collapsed": false,
    "pycharm": {
     "name": "#%%\n"
    }
   }
  },
  {
   "cell_type": "markdown",
   "source": [
    "Now define an Asymmetric encryption."
   ],
   "metadata": {
    "collapsed": false,
    "pycharm": {
     "name": "#%% md\n"
    }
   }
  },
  {
   "cell_type": "code",
   "execution_count": 43,
   "outputs": [],
   "source": [
    "def encrypt(msg, q, h, g):\n",
    "\n",
    "    en_msg = []\n",
    "\n",
    "    k = gen_key(q)      # Private key for sender\n",
    "    s = power(h, k, q)\n",
    "    p = power(g, k, q)\n",
    "\n",
    "    for i in range(0, len(msg)):\n",
    "        en_msg.append(msg[i])\n",
    "\n",
    "    print(\"g^k used : \", p)\n",
    "    print(\"g^ak used : \", s)\n",
    "    for i in range(0, len(en_msg)):\n",
    "        en_msg[i] = s * ord(en_msg[i])\n",
    "\n",
    "    return en_msg, p"
   ],
   "metadata": {
    "collapsed": false,
    "pycharm": {
     "name": "#%%\n"
    }
   }
  },
  {
   "cell_type": "markdown",
   "source": [
    "And at last define decryption."
   ],
   "metadata": {
    "collapsed": false,
    "pycharm": {
     "name": "#%% md\n"
    }
   }
  },
  {
   "cell_type": "code",
   "execution_count": 44,
   "outputs": [],
   "source": [
    "def decrypt(en_msg, p, key, q):\n",
    "\n",
    "    dr_msg = []\n",
    "    h = power(p, key, q)\n",
    "    for i in range(0, len(en_msg)):\n",
    "        dr_msg.append(chr(int(en_msg[i]/h)))\n",
    "\n",
    "    return dr_msg"
   ],
   "metadata": {
    "collapsed": false,
    "pycharm": {
     "name": "#%%\n"
    }
   }
  },
  {
   "cell_type": "code",
   "execution_count": 45,
   "outputs": [
    {
     "name": "stdout",
     "output_type": "stream",
     "text": [
      "Original Message : pooyan\n",
      "g used :  51226948169461472963395053579291514023739619243981\n",
      "g^a used :  35243247173897303049775265812813512938577057262249\n",
      "g^k used :  86587353161002841405822458778588687560240361483243\n",
      "g^ak used :  72318745317373005760472377761207248258892165147745\n",
      "Decrypted Message : pooyan\n"
     ]
    }
   ],
   "source": [
    "msg = 'pooyan'\n",
    "print(\"Original Message :\", msg)\n",
    "\n",
    "q = random.randint(10**20, 10**50)\n",
    "g = random.randint(2, q)\n",
    "\n",
    "key = gen_key(q)                     # Private key for receiver\n",
    "h = power(g, key, q)\n",
    "print(\"g used : \", g)\n",
    "print(\"g^a used : \", h)\n",
    "\n",
    "en_msg, p = encrypt(msg, q, h, g)\n",
    "dr_msg = decrypt(en_msg, p, key, q)\n",
    "dmsg = ''.join(dr_msg)\n",
    "print(\"Decrypted Message :\", dmsg)"
   ],
   "metadata": {
    "collapsed": false,
    "pycharm": {
     "name": "#%%\n"
    }
   }
  },
  {
   "cell_type": "code",
   "execution_count": 46,
   "outputs": [],
   "source": [
    "# Hope you like it ;)"
   ],
   "metadata": {
    "collapsed": false,
    "pycharm": {
     "name": "#%%\n"
    }
   }
  }
 ],
 "metadata": {
  "kernelspec": {
   "display_name": "Python 3",
   "language": "python",
   "name": "python3"
  },
  "language_info": {
   "codemirror_mode": {
    "name": "ipython",
    "version": 2
   },
   "file_extension": ".py",
   "mimetype": "text/x-python",
   "name": "python",
   "nbconvert_exporter": "python",
   "pygments_lexer": "ipython2",
   "version": "2.7.6"
  }
 },
 "nbformat": 4,
 "nbformat_minor": 0
}