{
 "cells": [
  {
   "cell_type": "code",
   "execution_count": 1,
   "outputs": [],
   "source": [
    "# This code is developed by Pooyan :D"
   ],
   "metadata": {
    "collapsed": false,
    "pycharm": {
     "name": "#%%\n"
    }
   }
  },
  {
   "cell_type": "code",
   "execution_count": 2,
   "outputs": [
    {
     "name": "stdout",
     "output_type": "stream",
     "text": [
      "Original Message : encryption\n",
      "g used :  2567911546834325838983063479420476383417802075640\n",
      "g^a used :  4519000358208116263330792689140551785848028754936\n",
      "g^k used :  4959175087189491941926479602889924953108078710828\n",
      "g^ak used :  2845670955993789686193100271606566810864858376604\n",
      "Decrypted Message : encryption\n"
     ]
    }
   ],
   "source": [
    "# Python program to illustrate ElGamal encryption\n",
    "\n",
    "import random\n",
    "from math import pow\n",
    "\n",
    "a = random.randint(2, 10)\n",
    "\n",
    "def gcd(a, b):\n",
    "    if a < b:\n",
    "        return gcd(b, a)\n",
    "    elif a % b == 0:\n",
    "        return b;\n",
    "    else:\n",
    "        return gcd(b, a % b)\n",
    "\n",
    "# Generating large random numbers\n",
    "def gen_key(q):\n",
    "\n",
    "    key = random.randint(pow(10, 20), q)\n",
    "    while gcd(q, key) != 1:\n",
    "        key = random.randint(pow(10, 20), q)\n",
    "\n",
    "    return key\n",
    "\n",
    "# Modular exponentiation\n",
    "def power(a, b, c):\n",
    "    x = 1\n",
    "    y = a\n",
    "\n",
    "    while b > 0:\n",
    "        if b % 2 != 0:\n",
    "            x = (x * y) % c;\n",
    "        y = (y * y) % c\n",
    "        b = int(b / 2)\n",
    "\n",
    "    return x % c\n",
    "\n",
    "# Asymmetric encryption\n",
    "def encrypt(msg, q, h, g):\n",
    "\n",
    "    en_msg = []\n",
    "\n",
    "    k = gen_key(q)# Private key for sender\n",
    "    s = power(h, k, q)\n",
    "    p = power(g, k, q)\n",
    "\n",
    "    for i in range(0, len(msg)):\n",
    "        en_msg.append(msg[i])\n",
    "\n",
    "    print(\"g^k used : \", p)\n",
    "    print(\"g^ak used : \", s)\n",
    "    for i in range(0, len(en_msg)):\n",
    "        en_msg[i] = s * ord(en_msg[i])\n",
    "\n",
    "    return en_msg, p\n",
    "\n",
    "def decrypt(en_msg, p, key, q):\n",
    "\n",
    "    dr_msg = []\n",
    "    h = power(p, key, q)\n",
    "    for i in range(0, len(en_msg)):\n",
    "        dr_msg.append(chr(int(en_msg[i]/h)))\n",
    "\n",
    "    return dr_msg\n",
    "\n",
    "# Driver code\n",
    "def main():\n",
    "\n",
    "    msg = 'encryption'\n",
    "    print(\"Original Message :\", msg)\n",
    "\n",
    "    q = random.randint(pow(10, 20), pow(10, 50))\n",
    "    g = random.randint(2, q)\n",
    "\n",
    "    key = gen_key(q)# Private key for receiver\n",
    "    h = power(g, key, q)\n",
    "    print(\"g used : \", g)\n",
    "    print(\"g^a used : \", h)\n",
    "\n",
    "    en_msg, p = encrypt(msg, q, h, g)\n",
    "    dr_msg = decrypt(en_msg, p, key, q)\n",
    "    dmsg = ''.join(dr_msg)\n",
    "    print(\"Decrypted Message :\", dmsg);\n",
    "\n",
    "\n",
    "if __name__ == '__main__':\n",
    "    main()"
   ],
   "metadata": {
    "collapsed": false,
    "pycharm": {
     "name": "#%%\n"
    }
   }
  },
  {
   "cell_type": "code",
   "execution_count": null,
   "outputs": [],
   "source": [],
   "metadata": {
    "collapsed": false,
    "pycharm": {
     "name": "#%%\n"
    }
   }
  }
 ],
 "metadata": {
  "kernelspec": {
   "display_name": "Python 3",
   "language": "python",
   "name": "python3"
  },
  "language_info": {
   "codemirror_mode": {
    "name": "ipython",
    "version": 2
   },
   "file_extension": ".py",
   "mimetype": "text/x-python",
   "name": "python",
   "nbconvert_exporter": "python",
   "pygments_lexer": "ipython2",
   "version": "2.7.6"
  }
 },
 "nbformat": 4,
 "nbformat_minor": 0
}