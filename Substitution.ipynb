{
 "cells": [
  {
   "cell_type": "code",
   "execution_count": 1,
   "outputs": [],
   "source": [
    "# This code is developed by Pooyan :D"
   ],
   "metadata": {
    "collapsed": false,
    "pycharm": {
     "name": "#%%\n"
    }
   }
  },
  {
   "cell_type": "markdown",
   "source": [
    "# Substitution\n",
    "A substitution cipher merely substitutes different letters, numbers, or other characters for each character in the original text. The most straightforward example is a simplistic substitution in which each letter of the alphabet is represented by a numerical digit, starting with 1 for A."
   ],
   "metadata": {
    "collapsed": false,
    "pycharm": {
     "name": "#%% md\n"
    }
   }
  },
  {
   "cell_type": "markdown",
   "source": [
    "First define a function to remove all white spaces."
   ],
   "metadata": {
    "collapsed": false,
    "pycharm": {
     "name": "#%% md\n"
    }
   }
  },
  {
   "cell_type": "code",
   "execution_count": 2,
   "outputs": [],
   "source": [
    "def removeSpaces(text):\n",
    "    newText = \"\"\n",
    "    for i in text:\n",
    "        if i == \" \":\n",
    "            continue\n",
    "        else:\n",
    "            newText = newText + i\n",
    "    return newText"
   ],
   "metadata": {
    "collapsed": false,
    "pycharm": {
     "name": "#%%\n"
    }
   }
  },
  {
   "cell_type": "markdown",
   "source": [
    "Now define a dictionary as a key."
   ],
   "metadata": {
    "collapsed": false,
    "pycharm": {
     "name": "#%% md\n"
    }
   }
  },
  {
   "cell_type": "code",
   "execution_count": 3,
   "outputs": [
    {
     "data": {
      "text/plain": "{'a': 'B',\n 'b': 'P',\n 'c': 'Q',\n 'd': 'W',\n 'e': 'T',\n 'f': 'O',\n 'g': 'Z',\n 'h': 'A',\n 'i': 'E',\n 'j': 'D',\n 'k': 'X',\n 'l': 'S',\n 'm': 'C',\n 'n': 'Y',\n 'o': 'R',\n 'p': 'F',\n 'q': 'K',\n 'r': 'N',\n 's': 'I',\n 't': 'H',\n 'u': 'M',\n 'v': 'U',\n 'w': 'G',\n 'x': 'J',\n 'y': 'L',\n 'z': 'V'}"
     },
     "execution_count": 3,
     "metadata": {},
     "output_type": "execute_result"
    }
   ],
   "source": [
    "key = {\n",
    "    'a' : 'B',\n",
    "    'b' : 'P',\n",
    "    'c' : 'Q',\n",
    "    'd' : 'W',\n",
    "    'e' : 'T',\n",
    "    'f' : 'O',\n",
    "    'g' : 'Z',\n",
    "    'h' : 'A',\n",
    "    'i' : 'E',\n",
    "    'j' : 'D',\n",
    "    'k' : 'X',\n",
    "    'l' : 'S',\n",
    "    'm' : 'C',\n",
    "    'n' : 'Y',\n",
    "    'o' : 'R',\n",
    "    'p' : 'F',\n",
    "    'q' : 'K',\n",
    "    'r' : 'N',\n",
    "    's' : 'I',\n",
    "    't' : 'H',\n",
    "    'u' : 'M',\n",
    "    'v' : 'U',\n",
    "    'w' : 'G',\n",
    "    'x' : 'J',\n",
    "    'y' : 'L',\n",
    "    'z' : 'V'\n",
    "}\n",
    "key"
   ],
   "metadata": {
    "collapsed": false,
    "pycharm": {
     "name": "#%%\n"
    }
   }
  },
  {
   "cell_type": "code",
   "execution_count": null,
   "outputs": [],
   "source": [],
   "metadata": {
    "collapsed": false,
    "pycharm": {
     "name": "#%%\n"
    }
   }
  }
 ],
 "metadata": {
  "kernelspec": {
   "display_name": "Python 3",
   "language": "python",
   "name": "python3"
  },
  "language_info": {
   "codemirror_mode": {
    "name": "ipython",
    "version": 2
   },
   "file_extension": ".py",
   "mimetype": "text/x-python",
   "name": "python",
   "nbconvert_exporter": "python",
   "pygments_lexer": "ipython2",
   "version": "2.7.6"
  }
 },
 "nbformat": 4,
 "nbformat_minor": 0
}