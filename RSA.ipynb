{
 "cells": [
  {
   "cell_type": "code",
   "execution_count": 471,
   "outputs": [],
   "source": [
    "# This code is developed by Pooyan :D"
   ],
   "metadata": {
    "collapsed": false,
    "pycharm": {
     "name": "#%%\n"
    }
   }
  },
  {
   "cell_type": "markdown",
   "source": [
    "In here we try to crack RSA by CRT.\n",
    "We have a message and encrypt it by three different public keys.\n",
    "Then by CRT we try to find the plain text."
   ],
   "metadata": {
    "collapsed": false,
    "pycharm": {
     "name": "#%% md\n"
    }
   }
  },
  {
   "cell_type": "code",
   "execution_count": 472,
   "outputs": [],
   "source": [
    "from Crypto.Util.number import *\n",
    "from Crypto import Random\n",
    "import libnum\n",
    "import math"
   ],
   "metadata": {
    "collapsed": false,
    "pycharm": {
     "name": "#%%\n"
    }
   }
  },
  {
   "cell_type": "code",
   "execution_count": 473,
   "outputs": [],
   "source": [
    "bits = 60\n",
    "message = \"pooyan\""
   ],
   "metadata": {
    "collapsed": false,
    "pycharm": {
     "name": "#%%\n"
    }
   }
  },
  {
   "cell_type": "code",
   "execution_count": 474,
   "outputs": [],
   "source": [
    "p = getPrime(bits, randfunc=Random.get_random_bytes)\n",
    "q = getPrime(bits, randfunc=Random.get_random_bytes)\n",
    "n1 = p*q\n",
    "e = 3\n",
    "m = bytes_to_long(message.encode('utf-8'))\n",
    "cipher1 = pow(m, e, n1)"
   ],
   "metadata": {
    "collapsed": false,
    "pycharm": {
     "name": "#%%\n"
    }
   }
  },
  {
   "cell_type": "code",
   "execution_count": 475,
   "outputs": [],
   "source": [
    "p = getPrime(bits, randfunc=Random.get_random_bytes)\n",
    "q = getPrime(bits, randfunc=Random.get_random_bytes)\n",
    "n2 = p*q\n",
    "cipher2 = pow(m, e, n2)"
   ],
   "metadata": {
    "collapsed": false,
    "pycharm": {
     "name": "#%%\n"
    }
   }
  },
  {
   "cell_type": "code",
   "execution_count": 476,
   "outputs": [],
   "source": [
    "p = getPrime(bits, randfunc=Random.get_random_bytes)\n",
    "q = getPrime(bits, randfunc=Random.get_random_bytes)\n",
    "n3 = p*q\n",
    "cipher3 = pow(m, e, n3)"
   ],
   "metadata": {
    "collapsed": false,
    "pycharm": {
     "name": "#%%\n"
    }
   }
  },
  {
   "cell_type": "code",
   "execution_count": 477,
   "outputs": [],
   "source": [
    "mod = [n1,n2,n3]\n",
    "rem = [cipher1, cipher2, cipher3]\n",
    "res = libnum.solve_crt(rem,mod)"
   ],
   "metadata": {
    "collapsed": false,
    "pycharm": {
     "name": "#%%\n"
    }
   }
  },
  {
   "cell_type": "code",
   "execution_count": 478,
   "outputs": [
    {
     "name": "stdout",
     "output_type": "stream",
     "text": [
      "Message: pooyan, Prime size=60 \n",
      "--------------------------------------------------------------------------------------------\n",
      "Cipher 1: 462428793637041758275863867734144520, N1=914655967525988538602118720648667423 \n",
      "Cipher 2: 101164912447156813686995279651681018, N2=726661959869786474297444491421189107 \n",
      "Cipher 3: 111873075286918313648299295443506866, N3=438768695885784992695410587521810399 \n",
      "--------------------------------------------------------------------------------------------\n",
      "M^e (calculated from CRT): 1889328463445955978194912339135285541772088\n",
      "--------------------------------------------------------------------------------------------\n",
      "Log(res)/e: 14\n",
      "--------------------------------------------------------------------------------------------\n",
      "Result: 123623913906541\n",
      "--------------------------------------------------------------------------------------------\n",
      "Decipher: b'pooyan' \n"
     ]
    }
   ],
   "source": [
    "print((\"Message: %s, Prime size=%d \" % (message, bits)))\n",
    "print(\"--------------------------------------------------------------------------------------------\")\n",
    "print((\"Cipher 1: %d, N1=%d \" % (cipher1, n1)))\n",
    "print((\"Cipher 2: %d, N2=%d \" % (cipher2, n2)))\n",
    "print((\"Cipher 3: %d, N3=%d \" % (cipher3, n3)))\n",
    "print(\"--------------------------------------------------------------------------------------------\")\n",
    "print((\"M^e (calculated from CRT): %d\" % res))\n",
    "print(\"--------------------------------------------------------------------------------------------\")\n",
    "val = math.log10(res)/e\n",
    "print((\"Log(res)/e: %d\" %val))\n",
    "print(\"--------------------------------------------------------------------------------------------\")\n",
    "val=10**(math.log10(res)/e)\n",
    "print((\"Result: %d\" % val))\n",
    "print(\"--------------------------------------------------------------------------------------------\")\n",
    "print((\"Decipher: %s \" % long_to_bytes(int(round(val)))))"
   ],
   "metadata": {
    "collapsed": false,
    "pycharm": {
     "name": "#%%\n"
    }
   }
  },
  {
   "cell_type": "code",
   "execution_count": 479,
   "outputs": [
    {
     "name": "stdout",
     "output_type": "stream",
     "text": [
      "Result: 123623913906541\n",
      "--------------------------------------------------------------------------------------------\n",
      "Decipher: b'pooyan' \n",
      "--------------------------------------------------------------------------------------------\n",
      "Log(res)/e: 32\n",
      "--------------------------------------------------------------------------------------------\n",
      "Result: 123623913906541\n",
      "--------------------------------------------------------------------------------------------\n",
      "Decipher: b'pooyan' \n"
     ]
    }
   ],
   "source": [
    "print (\"Result: %d\" % val)\n",
    "print(\"--------------------------------------------------------------------------------------------\")\n",
    "print (\"Decipher: %s \" % long_to_bytes(int(round(val))))\n",
    "val = math.log(res)/e\n",
    "print(\"--------------------------------------------------------------------------------------------\")\n",
    "print (\"Log(res)/e: %d\" %val)\n",
    "val=math.exp((math.log(res)/e))\n",
    "print(\"--------------------------------------------------------------------------------------------\")\n",
    "print (\"Result: %d\" % val)\n",
    "print(\"--------------------------------------------------------------------------------------------\")\n",
    "print (\"Decipher: %s \" % long_to_bytes(int(round(val))))"
   ],
   "metadata": {
    "collapsed": false,
    "pycharm": {
     "name": "#%%\n"
    }
   }
  }
 ],
 "metadata": {
  "kernelspec": {
   "display_name": "Python 3",
   "language": "python",
   "name": "python3"
  },
  "language_info": {
   "codemirror_mode": {
    "name": "ipython",
    "version": 2
   },
   "file_extension": ".py",
   "mimetype": "text/x-python",
   "name": "python",
   "nbconvert_exporter": "python",
   "pygments_lexer": "ipython2",
   "version": "2.7.6"
  }
 },
 "nbformat": 4,
 "nbformat_minor": 0
}