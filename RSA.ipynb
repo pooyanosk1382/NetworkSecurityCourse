{
 "cells": [
  {
   "cell_type": "code",
   "execution_count": 136,
   "outputs": [],
   "source": [
    "# This code is developed by Pooyan :D"
   ],
   "metadata": {
    "collapsed": false,
    "pycharm": {
     "name": "#%%\n"
    }
   }
  },
  {
   "cell_type": "code",
   "execution_count": 137,
   "outputs": [],
   "source": [
    "from Crypto.Util.number import *\n",
    "from Crypto import Random\n",
    "import Crypto\n",
    "import libnum\n",
    "import math"
   ],
   "metadata": {
    "collapsed": false,
    "pycharm": {
     "name": "#%%\n"
    }
   }
  },
  {
   "cell_type": "code",
   "execution_count": 138,
   "outputs": [],
   "source": [
    "bits = 60\n",
    "message = \"Pooyan\""
   ],
   "metadata": {
    "collapsed": false,
    "pycharm": {
     "name": "#%%\n"
    }
   }
  },
  {
   "cell_type": "code",
   "execution_count": 139,
   "outputs": [],
   "source": [
    "p = getPrime(bits, randfunc=Crypto.Random.get_random_bytes)\n",
    "q = getPrime(bits, randfunc=Crypto.Random.get_random_bytes)\n",
    "n1 = p*q\n",
    "e = 3\n",
    "m = bytes_to_long(message.encode('utf-8'))\n",
    "cipher1 = pow(m, e, n1)"
   ],
   "metadata": {
    "collapsed": false,
    "pycharm": {
     "name": "#%%\n"
    }
   }
  },
  {
   "cell_type": "code",
   "execution_count": 140,
   "outputs": [],
   "source": [
    "p = getPrime(bits, randfunc=Crypto.Random.get_random_bytes)\n",
    "q = getPrime(bits, randfunc=Crypto.Random.get_random_bytes)\n",
    "n2 = p*q\n",
    "cipher2 = pow(m, e, n2)"
   ],
   "metadata": {
    "collapsed": false,
    "pycharm": {
     "name": "#%%\n"
    }
   }
  },
  {
   "cell_type": "code",
   "execution_count": 141,
   "outputs": [],
   "source": [
    "p = getPrime(bits, randfunc=Crypto.Random.get_random_bytes)\n",
    "q = getPrime(bits, randfunc=Crypto.Random.get_random_bytes)\n",
    "n3 = p*q\n",
    "cipher3 = pow(m, e, n3)"
   ],
   "metadata": {
    "collapsed": false,
    "pycharm": {
     "name": "#%%\n"
    }
   }
  },
  {
   "cell_type": "code",
   "execution_count": 142,
   "outputs": [],
   "source": [
    "mod = [n1,n2,n3]\n",
    "rem = [cipher1, cipher2, cipher3]\n",
    "res = libnum.solve_crt(rem,mod)"
   ],
   "metadata": {
    "collapsed": false,
    "pycharm": {
     "name": "#%%\n"
    }
   }
  },
  {
   "cell_type": "code",
   "execution_count": 143,
   "outputs": [
    {
     "name": "stdout",
     "output_type": "stream",
     "text": [
      "String: Pooyan, Prime size=60 \n",
      "\n",
      "Cipher 1: 182320165307390584027527584737656365, N1=515164340301062618289160371340790723 \n",
      "Cipher 2: 419099883438389979893183865054479389, N2=447856812881112532571306060860532677 \n",
      "Cipher 3: 594055147749645931733600891338023537, N3=678296204279585024224420933626606733 \n",
      "\n",
      "M^e (calculated from CRT): 691734524437715632785262670343574777011000\n",
      "\n",
      "Log(res)/e: 13\n",
      "\n",
      "Result: 88439541817709\n",
      "\n",
      "Decipher: b'Pooyan' \n"
     ]
    }
   ],
   "source": [
    "print((\"String: %s, Prime size=%d \" % (message, bits)))\n",
    "print((\"\\nCipher 1: %d, N1=%d \" % (cipher1, n1)))\n",
    "print((\"Cipher 2: %d, N2=%d \" % (cipher2, n2)))\n",
    "print((\"Cipher 3: %d, N3=%d \" % (cipher3, n3)))\n",
    "print((\"\\nM^e (calculated from CRT): %d\" % res))\n",
    "val = math.log10(res)/e\n",
    "print((\"\\nLog(res)/e: %d\" %val))\n",
    "val=10**(math.log10(res)/e)\n",
    "print((\"\\nResult: %d\" % val))\n",
    "print((\"\\nDecipher: %s \" % long_to_bytes(int(round(val)))))"
   ],
   "metadata": {
    "collapsed": false,
    "pycharm": {
     "name": "#%%\n"
    }
   }
  },
  {
   "cell_type": "code",
   "execution_count": 144,
   "outputs": [
    {
     "name": "stdout",
     "output_type": "stream",
     "text": [
      "\n",
      "Result: 88439541817709\n",
      "\n",
      "Decipher: b'Pooyan' \n",
      "\n",
      "Log(res)/e: 32\n",
      "\n",
      "Result: 88439541817709\n",
      "\n",
      "Decipher: b'Pooyan' \n"
     ]
    }
   ],
   "source": [
    "print (\"\\nResult: %d\" % val)\n",
    "print (\"\\nDecipher: %s \" % long_to_bytes(int(round(val))))\n",
    "val = math.log(res)/e\n",
    "print (\"\\nLog(res)/e: %d\" %val)\n",
    "val=math.exp((math.log(res)/e))\n",
    "print (\"\\nResult: %d\" % val)\n",
    "print (\"\\nDecipher: %s \" % long_to_bytes(int(round(val))))"
   ],
   "metadata": {
    "collapsed": false,
    "pycharm": {
     "name": "#%%\n"
    }
   }
  },
  {
   "cell_type": "code",
   "execution_count": 145,
   "outputs": [
    {
     "ename": "SyntaxError",
     "evalue": "invalid syntax (1702844064.py, line 1)",
     "output_type": "error",
     "traceback": [
      "\u001B[1;36m  Cell \u001B[1;32mIn [145], line 1\u001B[1;36m\u001B[0m\n\u001B[1;33m    String: Hello, Prime size=128\u001B[0m\n\u001B[1;37m                 ^\u001B[0m\n\u001B[1;31mSyntaxError\u001B[0m\u001B[1;31m:\u001B[0m invalid syntax\n"
     ]
    }
   ],
   "source": [
    "String: Hello, Prime size=128\n",
    "\n",
    "Cipher 1: 30062606975559439271719211082359375, N1=99405367339371611956149308359620242996634933534996553739627915220275076385547\n",
    "Cipher 2: 30062606975559439271719211082359375, N2=58243603637784630653851892753434651957874001108437359868873207168534480178541\n",
    "Cipher 3: 30062606975559439271719211082359375, N3=50486393054278071488561259488087786628970965760164529585983836080750871743157\n",
    "\n",
    "M^e (calculated from CRT): 30062606975559439271719211082359375\n",
    "\n",
    "Log(res)/e: 11\n",
    "\n",
    "Result: 310939249774\n",
    "\n",
    "Decipher: Hello"
   ],
   "metadata": {
    "collapsed": false,
    "pycharm": {
     "name": "#%%\n"
    }
   }
  }
 ],
 "metadata": {
  "kernelspec": {
   "display_name": "Python 3",
   "language": "python",
   "name": "python3"
  },
  "language_info": {
   "codemirror_mode": {
    "name": "ipython",
    "version": 2
   },
   "file_extension": ".py",
   "mimetype": "text/x-python",
   "name": "python",
   "nbconvert_exporter": "python",
   "pygments_lexer": "ipython2",
   "version": "2.7.6"
  }
 },
 "nbformat": 4,
 "nbformat_minor": 0
}