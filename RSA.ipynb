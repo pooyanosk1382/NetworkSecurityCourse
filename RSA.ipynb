{
 "cells": [
  {
   "cell_type": "code",
   "execution_count": 263,
   "outputs": [],
   "source": [
    "# This code is developed by Pooyan :D"
   ],
   "metadata": {
    "collapsed": false,
    "pycharm": {
     "name": "#%%\n"
    }
   }
  },
  {
   "cell_type": "markdown",
   "source": [
    "In here we try to crack RSA by CRT.\n",
    "We have a message and encrypt it by three different public keys.\n",
    "Then by CRT we try to find the plain text."
   ],
   "metadata": {
    "collapsed": false,
    "pycharm": {
     "name": "#%% md\n"
    }
   }
  },
  {
   "cell_type": "code",
   "execution_count": 264,
   "outputs": [],
   "source": [
    "from Crypto.Util.number import *\n",
    "from Crypto import Random\n",
    "import Crypto\n",
    "import libnum\n",
    "import math"
   ],
   "metadata": {
    "collapsed": false,
    "pycharm": {
     "name": "#%%\n"
    }
   }
  },
  {
   "cell_type": "code",
   "execution_count": 265,
   "outputs": [],
   "source": [
    "bits = 60\n",
    "message = \"pooyan\""
   ],
   "metadata": {
    "collapsed": false,
    "pycharm": {
     "name": "#%%\n"
    }
   }
  },
  {
   "cell_type": "code",
   "execution_count": 266,
   "outputs": [],
   "source": [
    "p = getPrime(bits, randfunc=Crypto.Random.get_random_bytes)\n",
    "q = getPrime(bits, randfunc=Crypto.Random.get_random_bytes)\n",
    "n1 = p*q\n",
    "e = 3\n",
    "m = bytes_to_long(message.encode('utf-8'))\n",
    "cipher1 = pow(m, e, n1)"
   ],
   "metadata": {
    "collapsed": false,
    "pycharm": {
     "name": "#%%\n"
    }
   }
  },
  {
   "cell_type": "code",
   "execution_count": 267,
   "outputs": [],
   "source": [
    "p = getPrime(bits, randfunc=Crypto.Random.get_random_bytes)\n",
    "q = getPrime(bits, randfunc=Crypto.Random.get_random_bytes)\n",
    "n2 = p*q\n",
    "cipher2 = pow(m, e, n2)"
   ],
   "metadata": {
    "collapsed": false,
    "pycharm": {
     "name": "#%%\n"
    }
   }
  },
  {
   "cell_type": "code",
   "execution_count": 268,
   "outputs": [],
   "source": [
    "p = getPrime(bits, randfunc=Crypto.Random.get_random_bytes)\n",
    "q = getPrime(bits, randfunc=Crypto.Random.get_random_bytes)\n",
    "n3 = p*q\n",
    "cipher3 = pow(m, e, n3)"
   ],
   "metadata": {
    "collapsed": false,
    "pycharm": {
     "name": "#%%\n"
    }
   }
  },
  {
   "cell_type": "code",
   "execution_count": 269,
   "outputs": [],
   "source": [
    "mod = [n1,n2,n3]\n",
    "rem = [cipher1, cipher2, cipher3]\n",
    "res = libnum.solve_crt(rem,mod)"
   ],
   "metadata": {
    "collapsed": false,
    "pycharm": {
     "name": "#%%\n"
    }
   }
  },
  {
   "cell_type": "code",
   "execution_count": 270,
   "outputs": [
    {
     "name": "stdout",
     "output_type": "stream",
     "text": [
      "Message: pooyan, Prime size=60 \n",
      "--------------------------------------------------------------------------------------------\n",
      "Cipher 1: 288730042669656494765860573265552324, N1=760566036064419626094524703947941183 \n",
      "Cipher 2: 1031069162686487048833089910359452860, N2=1039099122653381239678382512526083073 \n",
      "Cipher 3: 120500529684634923283778796948652296, N3=714844518237446913785584313292090401 \n",
      "--------------------------------------------------------------------------------------------\n",
      "M^e (calculated from CRT): 1889328463445955978194912339135285541772088\n",
      "--------------------------------------------------------------------------------------------\n",
      "Log(res)/e: 14\n",
      "--------------------------------------------------------------------------------------------\n",
      "Result: 123623913906541\n",
      "--------------------------------------------------------------------------------------------\n",
      "Decipher: b'pooyan' \n"
     ]
    }
   ],
   "source": [
    "print((\"Message: %s, Prime size=%d \" % (message, bits)))\n",
    "print(\"--------------------------------------------------------------------------------------------\")\n",
    "print((\"Cipher 1: %d, N1=%d \" % (cipher1, n1)))\n",
    "print((\"Cipher 2: %d, N2=%d \" % (cipher2, n2)))\n",
    "print((\"Cipher 3: %d, N3=%d \" % (cipher3, n3)))\n",
    "print(\"--------------------------------------------------------------------------------------------\")\n",
    "print((\"M^e (calculated from CRT): %d\" % res))\n",
    "print(\"--------------------------------------------------------------------------------------------\")\n",
    "val = math.log10(res)/e\n",
    "print((\"Log(res)/e: %d\" %val))\n",
    "print(\"--------------------------------------------------------------------------------------------\")\n",
    "val=10**(math.log10(res)/e)\n",
    "print((\"Result: %d\" % val))\n",
    "print(\"--------------------------------------------------------------------------------------------\")\n",
    "print((\"Decipher: %s \" % long_to_bytes(int(round(val)))))"
   ],
   "metadata": {
    "collapsed": false,
    "pycharm": {
     "name": "#%%\n"
    }
   }
  },
  {
   "cell_type": "code",
   "execution_count": 271,
   "outputs": [
    {
     "name": "stdout",
     "output_type": "stream",
     "text": [
      "Result: 123623913906541\n",
      "--------------------------------------------------------------------------------------------\n",
      "Decipher: b'pooyan' \n",
      "--------------------------------------------------------------------------------------------\n",
      "Log(res)/e: 32\n",
      "--------------------------------------------------------------------------------------------\n",
      "Result: 123623913906541\n",
      "--------------------------------------------------------------------------------------------\n",
      "Decipher: b'pooyan' \n"
     ]
    }
   ],
   "source": [
    "print (\"Result: %d\" % val)\n",
    "print(\"--------------------------------------------------------------------------------------------\")\n",
    "print (\"Decipher: %s \" % long_to_bytes(int(round(val))))\n",
    "val = math.log(res)/e\n",
    "print(\"--------------------------------------------------------------------------------------------\")\n",
    "print (\"Log(res)/e: %d\" %val)\n",
    "val=math.exp((math.log(res)/e))\n",
    "print(\"--------------------------------------------------------------------------------------------\")\n",
    "print (\"Result: %d\" % val)\n",
    "print(\"--------------------------------------------------------------------------------------------\")\n",
    "print (\"Decipher: %s \" % long_to_bytes(int(round(val))))"
   ],
   "metadata": {
    "collapsed": false,
    "pycharm": {
     "name": "#%%\n"
    }
   }
  }
 ],
 "metadata": {
  "kernelspec": {
   "display_name": "Python 3",
   "language": "python",
   "name": "python3"
  },
  "language_info": {
   "codemirror_mode": {
    "name": "ipython",
    "version": 2
   },
   "file_extension": ".py",
   "mimetype": "text/x-python",
   "name": "python",
   "nbconvert_exporter": "python",
   "pygments_lexer": "ipython2",
   "version": "2.7.6"
  }
 },
 "nbformat": 4,
 "nbformat_minor": 0
}