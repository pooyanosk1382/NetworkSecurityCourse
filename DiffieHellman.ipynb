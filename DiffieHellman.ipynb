{
 "cells": [
  {
   "cell_type": "code",
   "execution_count": 38,
   "outputs": [],
   "source": [
    "# This program is developed by Pooyan :D"
   ],
   "metadata": {
    "collapsed": false,
    "pycharm": {
     "name": "#%%\n"
    }
   }
  },
  {
   "cell_type": "markdown",
   "source": [
    "The Diffie Hellman key exchange algorithm can be used to encrypt; one of the first schemes to do is ElGamal encryption. One modern example of it is called Integrated Encryption Scheme, which provides security against chosen plain text and chosen clipboard attacks."
   ],
   "metadata": {
    "collapsed": false,
    "pycharm": {
     "name": "#%% md\n"
    }
   }
  },
  {
   "cell_type": "markdown",
   "source": [
    "First we define a function to check if the number entered is prime or not."
   ],
   "metadata": {
    "collapsed": false,
    "pycharm": {
     "name": "#%% md\n"
    }
   }
  },
  {
   "cell_type": "code",
   "execution_count": 39,
   "outputs": [],
   "source": [
    "def prime_checker(p):\n",
    "    if p < 1:\n",
    "        return -1\n",
    "    elif p > 1:\n",
    "        if p == 2:\n",
    "            return 1\n",
    "        for i in range(2, p):\n",
    "            if p % i == 0:\n",
    "                return -1\n",
    "            return 1"
   ],
   "metadata": {
    "collapsed": false,
    "pycharm": {
     "name": "#%%\n"
    }
   }
  },
  {
   "cell_type": "markdown",
   "source": [
    "Now define a function to check the entered number is a primitive root or not."
   ],
   "metadata": {
    "collapsed": false,
    "pycharm": {
     "name": "#%% md\n"
    }
   }
  },
  {
   "cell_type": "code",
   "execution_count": 40,
   "outputs": [],
   "source": [
    "def primitive_check(g, p, L):\n",
    "    for i in range(1, p):\n",
    "        L.append(pow(g, i) % p)\n",
    "    for i in range(1, p):\n",
    "        if L.count(i) > 1:\n",
    "            L.clear()\n",
    "            return -1\n",
    "        return 1"
   ],
   "metadata": {
    "collapsed": false,
    "pycharm": {
     "name": "#%%\n"
    }
   }
  },
  {
   "cell_type": "code",
   "execution_count": 41,
   "outputs": [],
   "source": [
    "l = []"
   ],
   "metadata": {
    "collapsed": false,
    "pycharm": {
     "name": "#%%\n"
    }
   }
  },
  {
   "cell_type": "markdown",
   "source": [
    "Now we get a prime number."
   ],
   "metadata": {
    "collapsed": false,
    "pycharm": {
     "name": "#%% md\n"
    }
   }
  },
  {
   "cell_type": "code",
   "execution_count": 42,
   "outputs": [],
   "source": [
    "while 1:\n",
    "    P = int(input(\"Enter P : \"))\n",
    "    if prime_checker(P) == -1:\n",
    "        print(\"Number Is Not Prime, Please Enter Again!\")\n",
    "        continue\n",
    "    break"
   ],
   "metadata": {
    "collapsed": false,
    "pycharm": {
     "name": "#%%\n"
    }
   }
  },
  {
   "cell_type": "markdown",
   "source": [
    "And get a primitive root for that prime number."
   ],
   "metadata": {
    "collapsed": false,
    "pycharm": {
     "name": "#%% md\n"
    }
   }
  },
  {
   "cell_type": "code",
   "execution_count": 43,
   "outputs": [],
   "source": [
    "while 1:\n",
    "    G = int(input(f\"Enter The Primitive Root Of {P} : \"))\n",
    "    if primitive_check(G, P, l) == -1:\n",
    "        print(f\"Number {G} Is Not A Primitive Root Of {P}, Please Try Again!\")\n",
    "        continue\n",
    "    break"
   ],
   "metadata": {
    "collapsed": false,
    "pycharm": {
     "name": "#%%\n"
    }
   }
  },
  {
   "cell_type": "markdown",
   "source": [
    "Now get privet keys."
   ],
   "metadata": {
    "collapsed": false,
    "pycharm": {
     "name": "#%% md\n"
    }
   }
  },
  {
   "cell_type": "code",
   "execution_count": 44,
   "outputs": [],
   "source": [
    "while 1:\n",
    "    x1, x2 = int(input(\"Enter The Private Key Of User 1 : \")), int(\n",
    "        input(\"Enter The Private Key Of User 2 : \"))\n",
    "    if x1 >= P or x2 >= P:\n",
    "        print(f\"Private Key Of Both The Users Should Be Less Than {P}!\")\n",
    "        continue\n",
    "    break"
   ],
   "metadata": {
    "collapsed": false,
    "pycharm": {
     "name": "#%%\n"
    }
   }
  },
  {
   "cell_type": "markdown",
   "source": [
    "Calculate public keys and generate secret keys."
   ],
   "metadata": {
    "collapsed": false,
    "pycharm": {
     "name": "#%% md\n"
    }
   }
  },
  {
   "cell_type": "code",
   "execution_count": 45,
   "outputs": [],
   "source": [
    "# Calculate Public Keys\n",
    "y1, y2 = pow(G, x1) % P, pow(G, x2) % P\n",
    "\n",
    "# Generate Secret Keys\n",
    "k1, k2 = pow(y2, x1) % P, pow(y1, x2) % P"
   ],
   "metadata": {
    "collapsed": false,
    "pycharm": {
     "name": "#%%\n"
    }
   }
  },
  {
   "cell_type": "code",
   "execution_count": 46,
   "outputs": [
    {
     "name": "stdout",
     "output_type": "stream",
     "text": [
      "\n",
      "Secret Key For User 1 Is 10\n",
      "Secret Key For User 2 Is 10\n",
      "\n",
      "Keys Have Been Exchanged Successfully\n"
     ]
    }
   ],
   "source": [
    "print(f\"\\nSecret Key For User 1 Is {k1}\\nSecret Key For User 2 Is {k2}\\n\")\n",
    "\n",
    "if k1 == k2:\n",
    "    print(\"Keys Have Been Exchanged Successfully\")\n",
    "else:\n",
    "    print(\"Keys Have Not Been Exchanged Successfully\")"
   ],
   "metadata": {
    "collapsed": false,
    "pycharm": {
     "name": "#%%\n"
    }
   }
  },
  {
   "cell_type": "code",
   "execution_count": 47,
   "outputs": [],
   "source": [
    "# Hope you like it ;)"
   ],
   "metadata": {
    "collapsed": false,
    "pycharm": {
     "name": "#%%\n"
    }
   }
  }
 ],
 "metadata": {
  "kernelspec": {
   "display_name": "Python 3",
   "language": "python",
   "name": "python3"
  },
  "language_info": {
   "codemirror_mode": {
    "name": "ipython",
    "version": 2
   },
   "file_extension": ".py",
   "mimetype": "text/x-python",
   "name": "python",
   "nbconvert_exporter": "python",
   "pygments_lexer": "ipython2",
   "version": "2.7.6"
  }
 },
 "nbformat": 4,
 "nbformat_minor": 0
}