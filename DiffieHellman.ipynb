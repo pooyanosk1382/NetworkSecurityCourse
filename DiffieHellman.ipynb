{
 "cells": [
  {
   "cell_type": "code",
   "execution_count": 1,
   "outputs": [],
   "source": [
    "# This program is developed by Pooyan :D"
   ],
   "metadata": {
    "collapsed": false,
    "pycharm": {
     "name": "#%%\n"
    }
   }
  },
  {
   "cell_type": "markdown",
   "source": [
    "The Diffie Hellman key exchange algorithm can be used to encrypt; one of the first schemes to do is ElGamal encryption. One modern example of it is called Integrated Encryption Scheme, which provides security against chosen plain text and chosen clipboard attacks."
   ],
   "metadata": {
    "collapsed": false,
    "pycharm": {
     "name": "#%% md\n"
    }
   }
  },
  {
   "cell_type": "code",
   "execution_count": 2,
   "outputs": [
    {
     "ename": "ValueError",
     "evalue": "invalid literal for int() with base 10: 'dsbflfbsdlkbs'",
     "output_type": "error",
     "traceback": [
      "\u001B[1;31m---------------------------------------------------------------------------\u001B[0m",
      "\u001B[1;31mValueError\u001B[0m                                Traceback (most recent call last)",
      "Cell \u001B[1;32mIn [2], line 30\u001B[0m\n\u001B[0;32m     28\u001B[0m l \u001B[38;5;241m=\u001B[39m []\n\u001B[0;32m     29\u001B[0m \u001B[38;5;28;01mwhile\u001B[39;00m \u001B[38;5;241m1\u001B[39m:\n\u001B[1;32m---> 30\u001B[0m     P \u001B[38;5;241m=\u001B[39m \u001B[38;5;28;43mint\u001B[39;49m\u001B[43m(\u001B[49m\u001B[38;5;28;43minput\u001B[39;49m\u001B[43m(\u001B[49m\u001B[38;5;124;43m\"\u001B[39;49m\u001B[38;5;124;43mEnter P : \u001B[39;49m\u001B[38;5;124;43m\"\u001B[39;49m\u001B[43m)\u001B[49m\u001B[43m)\u001B[49m\n\u001B[0;32m     31\u001B[0m     \u001B[38;5;28;01mif\u001B[39;00m prime_checker(P) \u001B[38;5;241m==\u001B[39m \u001B[38;5;241m-\u001B[39m\u001B[38;5;241m1\u001B[39m:\n\u001B[0;32m     32\u001B[0m         \u001B[38;5;28mprint\u001B[39m(\u001B[38;5;124m\"\u001B[39m\u001B[38;5;124mNumber Is Not Prime, Please Enter Again!\u001B[39m\u001B[38;5;124m\"\u001B[39m)\n",
      "\u001B[1;31mValueError\u001B[0m: invalid literal for int() with base 10: 'dsbflfbsdlkbs'"
     ]
    }
   ],
   "source": [
    "# Diffie-Hellman Code\n",
    "\n",
    "\n",
    "def prime_checker(p):\n",
    "    # Checks If the number entered is a Prime Number or not\n",
    "    if p < 1:\n",
    "        return -1\n",
    "    elif p > 1:\n",
    "        if p == 2:\n",
    "            return 1\n",
    "        for i in range(2, p):\n",
    "            if p % i == 0:\n",
    "                return -1\n",
    "            return 1\n",
    "\n",
    "\n",
    "def primitive_check(g, p, L):\n",
    "    # Checks If The Entered Number Is A Primitive Root Or Not\n",
    "    for i in range(1, p):\n",
    "        L.append(pow(g, i) % p)\n",
    "    for i in range(1, p):\n",
    "        if L.count(i) > 1:\n",
    "            L.clear()\n",
    "            return -1\n",
    "        return 1\n",
    "\n",
    "\n",
    "l = []\n",
    "while 1:\n",
    "    P = int(input(\"Enter P : \"))\n",
    "    if prime_checker(P) == -1:\n",
    "        print(\"Number Is Not Prime, Please Enter Again!\")\n",
    "        continue\n",
    "    break\n",
    "\n",
    "while 1:\n",
    "    G = int(input(f\"Enter The Primitive Root Of {P} : \"))\n",
    "    if primitive_check(G, P, l) == -1:\n",
    "        print(f\"Number Is Not A Primitive Root Of {P}, Please Try Again!\")\n",
    "        continue\n",
    "    break\n",
    "\n",
    "# Private Keys\n",
    "x1, x2 = int(input(\"Enter The Private Key Of User 1 : \")), int(\n",
    "    input(\"Enter The Private Key Of User 2 : \"))\n",
    "while 1:\n",
    "    if x1 >= P or x2 >= P:\n",
    "        print(f\"Private Key Of Both The Users Should Be Less Than {P}!\")\n",
    "        continue\n",
    "    break\n",
    "\n",
    "# Calculate Public Keys\n",
    "y1, y2 = pow(G, x1) % P, pow(G, x2) % P\n",
    "\n",
    "# Generate Secret Keys\n",
    "k1, k2 = pow(y2, x1) % P, pow(y1, x2) % P\n",
    "\n",
    "print(f\"\\nSecret Key For User 1 Is {k1}\\nSecret Key For User 2 Is {k2}\\n\")\n",
    "\n",
    "if k1 == k2:\n",
    "    print(\"Keys Have Been Exchanged Successfully\")\n",
    "else:\n",
    "    print(\"Keys Have Not Been Exchanged Successfully\")"
   ],
   "metadata": {
    "collapsed": false,
    "pycharm": {
     "name": "#%%\n"
    }
   }
  },
  {
   "cell_type": "code",
   "execution_count": null,
   "outputs": [],
   "source": [],
   "metadata": {
    "collapsed": false,
    "pycharm": {
     "name": "#%%\n"
    }
   }
  }
 ],
 "metadata": {
  "kernelspec": {
   "display_name": "Python 3",
   "language": "python",
   "name": "python3"
  },
  "language_info": {
   "codemirror_mode": {
    "name": "ipython",
    "version": 2
   },
   "file_extension": ".py",
   "mimetype": "text/x-python",
   "name": "python",
   "nbconvert_exporter": "python",
   "pygments_lexer": "ipython2",
   "version": "2.7.6"
  }
 },
 "nbformat": 4,
 "nbformat_minor": 0
}