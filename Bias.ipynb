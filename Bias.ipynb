{
 "cells": [
  {
   "cell_type": "code",
   "execution_count": 1,
   "outputs": [],
   "source": [
    "# This code is developed by Pooyan :D"
   ],
   "metadata": {
    "collapsed": false,
    "pycharm": {
     "name": "#%%\n"
    }
   }
  },
  {
   "cell_type": "markdown",
   "source": [
    "# Bias\n",
    "---------------------------------------------------\n",
    "### What do we do?\n",
    "In here we will give all the possible inputs to the 8th S-box to find the bias of outputs."
   ],
   "metadata": {
    "collapsed": false,
    "pycharm": {
     "name": "#%% md\n"
    }
   }
  },
  {
   "cell_type": "markdown",
   "source": [
    "First define the 8th S-box."
   ],
   "metadata": {
    "collapsed": false,
    "pycharm": {
     "name": "#%% md\n"
    }
   }
  },
  {
   "cell_type": "code",
   "execution_count": 2,
   "outputs": [],
   "source": [
    "SBox8 = [[13, 2, 8, 4, 6, 15, 11, 1, 10, 9, 3, 14, 5, 0, 12, 7],\n",
    "         [1, 15, 13, 8, 10, 3, 7, 4, 12, 5, 6, 11, 0, 14, 9, 2],\n",
    "         [7, 11, 4, 1, 9, 12, 14, 2, 0, 6, 10, 13, 15, 3, 5, 8],\n",
    "         [2, 1, 14, 7, 4, 10, 8, 13, 15, 12, 9, 0, 3, 5, 6, 11]]"
   ],
   "metadata": {
    "collapsed": false,
    "pycharm": {
     "name": "#%%\n"
    }
   }
  },
  {
   "cell_type": "markdown",
   "source": [
    "Now define a function"
   ],
   "metadata": {
    "collapsed": false,
    "pycharm": {
     "name": "#%% md\n"
    }
   }
  },
  {
   "cell_type": "code",
   "execution_count": 13,
   "outputs": [
    {
     "data": {
      "text/plain": "['000000',\n '000001',\n '000010',\n '000011',\n '000100',\n '000101',\n '000110',\n '000111',\n '001000',\n '001001',\n '001010',\n '001011',\n '001100',\n '001101',\n '001110',\n '001111',\n '010000',\n '010001',\n '010010',\n '010011',\n '010100',\n '010101',\n '010110',\n '010111',\n '011000',\n '011001',\n '011010',\n '011011',\n '011100',\n '011101',\n '011110',\n '011111',\n '100000',\n '100001',\n '100010',\n '100011',\n '100100',\n '100101',\n '100110',\n '100111',\n '101000',\n '101001',\n '101010',\n '101011',\n '101100',\n '101101',\n '101110',\n '101111',\n '110000',\n '110001',\n '110010',\n '110011',\n '110100',\n '110101',\n '110110',\n '110111',\n '111000',\n '111001',\n '111010',\n '111011',\n '111100',\n '111101',\n '111110',\n '111111']"
     },
     "execution_count": 13,
     "metadata": {},
     "output_type": "execute_result"
    }
   ],
   "source": [
    "binNums = []\n",
    "N = 6\n",
    "for i in range(2**N):\n",
    "    binNums.append(f'{bin(i)[2:]:0>{N}}')\n",
    "binNums"
   ],
   "metadata": {
    "collapsed": false,
    "pycharm": {
     "name": "#%%\n"
    }
   }
  },
  {
   "cell_type": "markdown",
   "source": [
    "Define a function to return the decimal value of binary numbers."
   ],
   "metadata": {
    "collapsed": false,
    "pycharm": {
     "name": "#%% md\n"
    }
   }
  },
  {
   "cell_type": "code",
   "execution_count": 14,
   "outputs": [],
   "source": [
    "binToDec = {\n",
    "    '0000' : 0,\n",
    "    '0001' : 1,\n",
    "    '0010' : 2,\n",
    "    '0011' : 3,\n",
    "    '0100' : 4,\n",
    "    '0101' : 5,\n",
    "    '0110' : 6,\n",
    "    '0111' : 7,\n",
    "    '1000' : 8,\n",
    "    '1001' : 9,\n",
    "    '1010' : 10,\n",
    "    '1011' : 11,\n",
    "    '1100' : 12,\n",
    "    '1101' : 13,\n",
    "    '1110' : 14,\n",
    "    '1111' : 15\n",
    "}"
   ],
   "metadata": {
    "collapsed": false,
    "pycharm": {
     "name": "#%%\n"
    }
   }
  },
  {
   "cell_type": "markdown",
   "source": [
    "Now a function that do the DES job in S-box."
   ],
   "metadata": {
    "collapsed": false,
    "pycharm": {
     "name": "#%% md\n"
    }
   }
  },
  {
   "cell_type": "code",
   "execution_count": 20,
   "outputs": [],
   "source": [
    "def vals(binary, S):\n",
    "    if binary[0] == '0' and binary[5] == '0':\n",
    "        return S[0][binToDec.__getitem__(binary[1:5])]\n",
    "    elif binary[0] == '0' and binary[5] == '1':\n",
    "        return S[1][binToDec.__getitem__(binary[1:5])]\n",
    "    elif binary[0] == '1' and binary[5] == '0':\n",
    "        return S[2][binToDec.__getitem__(binary[1:5])]\n",
    "    else:\n",
    "        return S[3][binToDec.__getitem__(binary[1:5])]"
   ],
   "metadata": {
    "collapsed": false,
    "pycharm": {
     "name": "#%%\n"
    }
   }
  },
  {
   "cell_type": "code",
   "execution_count": 19,
   "outputs": [
    {
     "data": {
      "text/plain": "15"
     },
     "execution_count": 19,
     "metadata": {},
     "output_type": "execute_result"
    }
   ],
   "source": [
    "vals('000011', SBox8)"
   ],
   "metadata": {
    "collapsed": false,
    "pycharm": {
     "name": "#%%\n"
    }
   }
  },
  {
   "cell_type": "code",
   "execution_count": null,
   "outputs": [],
   "source": [],
   "metadata": {
    "collapsed": false,
    "pycharm": {
     "name": "#%%\n"
    }
   }
  }
 ],
 "metadata": {
  "kernelspec": {
   "display_name": "Python 3",
   "language": "python",
   "name": "python3"
  },
  "language_info": {
   "codemirror_mode": {
    "name": "ipython",
    "version": 2
   },
   "file_extension": ".py",
   "mimetype": "text/x-python",
   "name": "python",
   "nbconvert_exporter": "python",
   "pygments_lexer": "ipython2",
   "version": "2.7.6"
  }
 },
 "nbformat": 4,
 "nbformat_minor": 0
}