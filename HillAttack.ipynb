{
 "cells": [
  {
   "cell_type": "code",
   "execution_count": 23,
   "outputs": [],
   "source": [
    "# This code is developed by Pooyan :D"
   ],
   "metadata": {
    "collapsed": false,
    "pycharm": {
     "name": "#%%\n"
    }
   }
  },
  {
   "cell_type": "markdown",
   "source": [
    "# Hill Attack\n",
    "As we know for attack to hill cipher we just need to solve some system of equations."
   ],
   "metadata": {
    "collapsed": false,
    "pycharm": {
     "name": "#%% md\n"
    }
   }
  },
  {
   "cell_type": "markdown",
   "source": [
    "We define a function to read cipher and plain text from files."
   ],
   "metadata": {
    "collapsed": false,
    "pycharm": {
     "name": "#%% md\n"
    }
   }
  },
  {
   "cell_type": "code",
   "execution_count": 24,
   "outputs": [
    {
     "name": "stdout",
     "output_type": "stream",
     "text": [
      "QQNMCAVNGRIZJJTTNCGCZVSVMVR salamkhubidadashchekhabar\n"
     ]
    }
   ],
   "source": [
    "def removeSpaces(text):\n",
    "    newText = \"\"\n",
    "    for i in text:\n",
    "        if i == \" \":\n",
    "            continue\n",
    "        else:\n",
    "            newText = newText + i\n",
    "    return newText\n",
    "\n",
    "\n",
    "def reader(cipherFileName, plainFileName):\n",
    "    cipherFile = open(cipherFileName, 'r')\n",
    "    plainFile = open(plainFileName, 'r')\n",
    "    cipherText = cipherFile.read()\n",
    "    plainText = plainFile.read()\n",
    "    plainText = removeSpaces(plainText)\n",
    "    return cipherText, plainText\n",
    "\n",
    "\n",
    "a, b = reader('hillCipher.txt', 'hillPlain.txt')\n",
    "print(a, b)"
   ],
   "metadata": {
    "collapsed": false,
    "pycharm": {
     "name": "#%%\n"
    }
   }
  },
  {
   "cell_type": "markdown",
   "source": [
    "Now define a function to get texts and return the key values."
   ],
   "metadata": {
    "collapsed": false,
    "pycharm": {
     "name": "#%% md\n"
    }
   }
  },
  {
   "cell_type": "code",
   "execution_count": 25,
   "outputs": [
    {
     "name": "stdout",
     "output_type": "stream",
     "text": [
      "{a11: 27585/52517, a21: 22986/52517, a31: -10630/52517}\n",
      "{a12: 47741/52517, a22: 8734/52517, a32: -19292/52517}\n",
      "{a13: 38739/52517, a23: 873/52517, a33: -4105/52517}\n"
     ]
    }
   ],
   "source": [
    "from sympy import *\n",
    "def keyFinder(cipherText, plainText):\n",
    "    a11 , a12, a13, a21, a22, a23, a31, a32, a33 = symbols('a11 a12 a13 a21 a22 a23 a31 a32 a33')\n",
    "\n",
    "    print(solve([Eq((ord(plainText[0])*a11 + ord(plainText[1])*a21 + ord(plainText[2])*a31), ord(cipherText[0])), Eq((ord(plainText[3])*a11 + ord(plainText[4])*a21 + ord(plainText[5])*a31), ord(cipherText[3])), Eq((ord(plainText[6])*a11 + ord(plainText[7])*a21 + ord(plainText[8])*a31), ord(cipherText[6]))]))\n",
    "\n",
    "    print(solve([Eq((ord(plainText[0])*a12 + ord(plainText[1])*a22 + ord(plainText[2])*a32), ord(cipherText[1])), Eq((ord(plainText[3])*a12 + ord(plainText[4])*a22 + ord(plainText[5])*a32), ord(cipherText[4])), Eq((ord(plainText[6])*a12 + ord(plainText[7])*a22 + ord(plainText[8])*a32), ord(cipherText[7]))]))\n",
    "\n",
    "    print(solve([Eq((ord(plainText[0])*a13 + ord(plainText[1])*a23 + ord(plainText[2])*a33), ord(cipherText[2])), Eq((ord(plainText[3])*a13 + ord(plainText[4])*a23 + ord(plainText[5])*a33), ord(cipherText[5])), Eq((ord(plainText[6])*a13 + ord(plainText[7])*a23 + ord(plainText[8])*a33), ord(cipherText[8]))]))\n",
    "\n",
    "keyFinder(a, b)"
   ],
   "metadata": {
    "collapsed": false,
    "pycharm": {
     "name": "#%%\n"
    }
   }
  },
  {
   "cell_type": "code",
   "execution_count": 26,
   "outputs": [],
   "source": [
    "# Hope you like it ;)"
   ],
   "metadata": {
    "collapsed": false,
    "pycharm": {
     "name": "#%%\n"
    }
   }
  }
 ],
 "metadata": {
  "kernelspec": {
   "display_name": "Python 3",
   "language": "python",
   "name": "python3"
  },
  "language_info": {
   "codemirror_mode": {
    "name": "ipython",
    "version": 2
   },
   "file_extension": ".py",
   "mimetype": "text/x-python",
   "name": "python",
   "nbconvert_exporter": "python",
   "pygments_lexer": "ipython2",
   "version": "2.7.6"
  }
 },
 "nbformat": 4,
 "nbformat_minor": 0
}