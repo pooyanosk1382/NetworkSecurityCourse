{
 "cells": [
  {
   "cell_type": "code",
   "execution_count": 1,
   "outputs": [],
   "source": [
    "# This code is developed by Pooyan :D"
   ],
   "metadata": {
    "collapsed": false,
    "pycharm": {
     "name": "#%%\n"
    }
   }
  },
  {
   "cell_type": "markdown",
   "source": [
    "# Hill Attack\n",
    "As we know the structure of Hill cipher is:\n",
    "$ \\begin{bmatrix} P1 & P2 & P3 \\end{bmatrix} \\begin{bmatrix} K1 & K2 & K3\\\\ K4 & K5 & K6\\\\ K7 & K8 & K9 \\end{bmatrix} = \\begin{bmatrix} C1 & C2 & C2 \\end{bmatrix} $\n",
    "But if we concat three block of plain text and three block of cipher text we will have:\n",
    "$ \\begin{bmatrix} P1 & P2 & P3\\\\ P4 & P5 & P6\\\\ P7 & P8 & P9 \\end{bmatrix} \\begin{bmatrix} K1 & K2 & K3\\\\ K4 & K5 & K6\\\\ K7 & K8 & K9 \\end{bmatrix} = \\begin{bmatrix} C1 & C2 & C3\\\\ C4 & C5 & C6\\\\ C7 & C8 & C9 \\end{bmatrix} $\n",
    "Now for attacking to Hill cipher we can do:\n",
    "$ P^{-1} \\begin{bmatrix} P1 & P2 & P3\\\\ P4 & P5 & P6\\\\ P7 & P8 & P9 \\end{bmatrix} \\begin{bmatrix} K1 & K2 & K3\\\\ K4 & K5 & K6\\\\ K7 & K8 & K9 \\end{bmatrix} = P^{-1} \\begin{bmatrix} C1 & C2 & C3\\\\ C4 & C5 & C6\\\\ C7 & C8 & C9 \\end{bmatrix} $\n",
    "$ \\begin{bmatrix} K1 & K2 & K3\\\\ K4 & K5 & K6\\\\ K7 & K8 & K9 \\end{bmatrix} = P^{-1} \\begin{bmatrix} C1 & C2 & C3\\\\ C4 & C5 & C6\\\\ C7 & C8 & C9 \\end{bmatrix} $\n",
    "So if we find the inverse of P we can attack very easy."
   ],
   "metadata": {
    "collapsed": false,
    "pycharm": {
     "name": "#%% md\n"
    }
   }
  },
  {
   "cell_type": "markdown",
   "source": [
    "We define a function to read cipher and plain text from files."
   ],
   "metadata": {
    "collapsed": false,
    "pycharm": {
     "name": "#%% md\n"
    }
   }
  },
  {
   "cell_type": "code",
   "execution_count": 2,
   "outputs": [
    {
     "name": "stdout",
     "output_type": "stream",
     "text": [
      "SXEFMAIQZIYONEVVJIPWTQNYFPLSSD thisprogramisdevelopedbypooyan\n"
     ]
    }
   ],
   "source": [
    "def removeSpaces(text):\n",
    "    newText = \"\"\n",
    "    for i in text:\n",
    "        if i == \" \":\n",
    "            continue\n",
    "        else:\n",
    "            newText = newText + i\n",
    "    return newText\n",
    "\n",
    "\n",
    "def reader(cipherFileName, plainFileName):\n",
    "    cipherFile = open(cipherFileName, 'r')\n",
    "    plainFile = open(plainFileName, 'r')\n",
    "    cipherText = cipherFile.read()\n",
    "    plainText = plainFile.read()\n",
    "    plainText = removeSpaces(plainText)\n",
    "    return cipherText, plainText\n",
    "\n",
    "\n",
    "cipher, plain = reader('hillCipher.txt', 'hillPlain.txt')\n",
    "print(cipher, plain)"
   ],
   "metadata": {
    "collapsed": false,
    "pycharm": {
     "name": "#%%\n"
    }
   }
  },
  {
   "cell_type": "markdown",
   "source": [
    "Now working on matrix."
   ],
   "metadata": {
    "collapsed": false,
    "pycharm": {
     "name": "#%% md\n"
    }
   }
  },
  {
   "cell_type": "code",
   "execution_count": null,
   "outputs": [],
   "source": [
    "import numpy as np\n",
    "from sympy import Matrix\n",
    "\n",
    "\n",
    "def matInvMod (matrix, mod):\n",
    "    width = matrix.shape[0]\n",
    "    height = matrix.shape[1]\n",
    "    if width != height:\n",
    "        raise Exception(\"No square matrix!\")\n",
    "    tempMatrix = Matrix(matrix)\n",
    "    matrixInv = tempMatrix.inv_mod(mod)\n",
    "    inv = np.array(matrixInv)\n",
    "    k = width\n",
    "    temp = [[1 for i in range(k)] for j in range(k)]  # just a 2-d list\n",
    "    tempInv = tempMatrix*matrixInv\n",
    "    for i in range(k):\n",
    "        for j in range(k):\n",
    "            temp[i][j] = tempInv[i,j] % mod\n",
    "    return inv\n",
    "\n",
    "\n",
    "def makeReversibleMatrix(start, end, plainText):\n",
    "    plainTextTemp = plainText[start:end+1]\n",
    "    temp = []\n",
    "    for i in plainTextTemp:\n",
    "        temp.append(ord(i) - ord('a'))\n",
    "    keySize = 3\n",
    "    arr = [[] for i in range(keySize)]\n",
    "    ind = 0\n",
    "    for i in range(keySize):\n",
    "        arr[i].append(temp[ind:ind+3])\n",
    "        ind += keySize\n",
    "    arr1 = np.array(arr)\n",
    "    matrix = np.matrix(arr1)\n",
    "    return matInvMod(matrix, 26)\n",
    "\n",
    "\n",
    "pInverse = makeReversibleMatrix(0, 8, plain)\n",
    "print(pInverse)"
   ],
   "metadata": {
    "collapsed": false,
    "pycharm": {
     "name": "#%%\n",
     "is_executing": true
    }
   }
  },
  {
   "cell_type": "markdown",
   "source": [
    "Now work on cipher text matrix."
   ],
   "metadata": {
    "collapsed": false,
    "pycharm": {
     "name": "#%% md\n"
    }
   }
  },
  {
   "cell_type": "code",
   "execution_count": null,
   "outputs": [],
   "source": [
    "keySize = 3\n",
    "temp = [[] for i in range(keySize)]\n",
    "cipherText = cipher[0:9]\n",
    "cipherTextTemp = []\n",
    "for i in cipherText:\n",
    "    cipherTextTemp.append(ord(i) - ord('A'))\n",
    "ind = 0\n",
    "for i in range(keySize):\n",
    "    temp[i].append(cipherTextTemp[ind:ind+3])\n",
    "    ind += keySize\n",
    "arr = np.array(temp)\n",
    "cMatrix = np.matrix(arr)\n",
    "cMatrix"
   ],
   "metadata": {
    "collapsed": false,
    "pycharm": {
     "name": "#%%\n",
     "is_executing": true
    }
   }
  },
  {
   "cell_type": "code",
   "execution_count": null,
   "outputs": [],
   "source": [
    "(pInverse * cMatrix) % 26"
   ],
   "metadata": {
    "collapsed": false,
    "pycharm": {
     "name": "#%%\n",
     "is_executing": true
    }
   }
  },
  {
   "cell_type": "markdown",
   "source": [
    "Now we can see that our code is working correct."
   ],
   "metadata": {
    "collapsed": false,
    "pycharm": {
     "name": "#%% md\n"
    }
   }
  },
  {
   "cell_type": "code",
   "execution_count": null,
   "outputs": [],
   "source": [
    "# Hope you like it ;)"
   ],
   "metadata": {
    "collapsed": false,
    "pycharm": {
     "name": "#%%\n",
     "is_executing": true
    }
   }
  }
 ],
 "metadata": {
  "kernelspec": {
   "display_name": "Python 3",
   "language": "python",
   "name": "python3"
  },
  "language_info": {
   "codemirror_mode": {
    "name": "ipython",
    "version": 2
   },
   "file_extension": ".py",
   "mimetype": "text/x-python",
   "name": "python",
   "nbconvert_exporter": "python",
   "pygments_lexer": "ipython2",
   "version": "2.7.6"
  }
 },
 "nbformat": 4,
 "nbformat_minor": 0
}