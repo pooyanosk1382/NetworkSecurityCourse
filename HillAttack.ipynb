{
 "cells": [
  {
   "cell_type": "code",
   "execution_count": 38,
   "outputs": [],
   "source": [
    "# This code is developed by Pooyan :D"
   ],
   "metadata": {
    "collapsed": false,
    "pycharm": {
     "name": "#%%\n"
    }
   }
  },
  {
   "cell_type": "markdown",
   "source": [
    "# Hill Attack\n",
    "As we know the structure of Hill cipher is:\n",
    "$ \\begin{bmatrix} P1 & P2 & P3 \\end{bmatrix} \\begin{bmatrix} K1 & K2 & K3\\\\ K4 & K5 & K6\\\\ K7 & K8 & K9 \\end{bmatrix} = \\begin{bmatrix} C1 & C2 & C2 \\end{bmatrix} $\n",
    "But if we concat three block of plain text and three block of cipher text we will have:\n",
    "$ \\begin{bmatrix} P1 & P2 & P3\\\\ P4 & P5 & P6\\\\ P7 & P8 & P9 \\end{bmatrix} \\begin{bmatrix} K1 & K2 & K3\\\\ K4 & K5 & K6\\\\ K7 & K8 & K9 \\end{bmatrix} = \\begin{bmatrix} C1 & C2 & C3\\\\ C4 & C5 & C6\\\\ C7 & C8 & C9 \\end{bmatrix} $\n",
    "Now for attacking to Hill cipher we can do:\n",
    "$ P^{-1} \\begin{bmatrix} P1 & P2 & P3\\\\ P4 & P5 & P6\\\\ P7 & P8 & P9 \\end{bmatrix} \\begin{bmatrix} K1 & K2 & K3\\\\ K4 & K5 & K6\\\\ K7 & K8 & K9 \\end{bmatrix} = P^{-1} \\begin{bmatrix} C1 & C2 & C3\\\\ C4 & C5 & C6\\\\ C7 & C8 & C9 \\end{bmatrix} $\n",
    "$ \\begin{bmatrix} K1 & K2 & K3\\\\ K4 & K5 & K6\\\\ K7 & K8 & K9 \\end{bmatrix} = P^{-1} \\begin{bmatrix} C1 & C2 & C3\\\\ C4 & C5 & C6\\\\ C7 & C8 & C9 \\end{bmatrix} $\n",
    "So if we find the inverse of P we can attack very easy."
   ],
   "metadata": {
    "collapsed": false,
    "pycharm": {
     "name": "#%% md\n"
    }
   }
  },
  {
   "cell_type": "markdown",
   "source": [
    "We define a function to read cipher and plain text from files."
   ],
   "metadata": {
    "collapsed": false,
    "pycharm": {
     "name": "#%% md\n"
    }
   }
  },
  {
   "cell_type": "code",
   "execution_count": 1,
   "outputs": [
    {
     "name": "stdout",
     "output_type": "stream",
     "text": [
      "QQNMCAVNGRIZJJTTNCGCZVSVMVR salamkhubidadashchekhabar\n"
     ]
    }
   ],
   "source": [
    "def removeSpaces(text):\n",
    "    newText = \"\"\n",
    "    for i in text:\n",
    "        if i == \" \":\n",
    "            continue\n",
    "        else:\n",
    "            newText = newText + i\n",
    "    return newText\n",
    "\n",
    "\n",
    "def reader(cipherFileName, plainFileName):\n",
    "    cipherFile = open(cipherFileName, 'r')\n",
    "    plainFile = open(plainFileName, 'r')\n",
    "    cipherText = cipherFile.read()\n",
    "    plainText = plainFile.read()\n",
    "    plainText = removeSpaces(plainText)\n",
    "    return cipherText, plainText\n",
    "\n",
    "\n",
    "cipher, plain = reader('hillCipher.txt', 'hillPlain.txt')\n",
    "print(cipher, plain)"
   ],
   "metadata": {
    "collapsed": false,
    "pycharm": {
     "name": "#%%\n"
    }
   }
  },
  {
   "cell_type": "markdown",
   "source": [
    "Now working on matrix."
   ],
   "metadata": {
    "collapsed": false,
    "pycharm": {
     "name": "#%% md\n"
    }
   }
  },
  {
   "cell_type": "code",
   "execution_count": 16,
   "outputs": [
    {
     "ename": "ValueError",
     "evalue": "The truth value of an array with more than one element is ambiguous. Use a.any() or a.all()",
     "output_type": "error",
     "traceback": [
      "\u001B[1;31m---------------------------------------------------------------------------\u001B[0m",
      "\u001B[1;31mValueError\u001B[0m                                Traceback (most recent call last)",
      "File \u001B[1;32m~\\AppData\\Local\\Programs\\Python\\Python311\\Lib\\site-packages\\sympy\\matrices\\inverse.py:176\u001B[0m, in \u001B[0;36m_inv_mod\u001B[1;34m(M, m)\u001B[0m\n\u001B[0;32m    175\u001B[0m \u001B[38;5;28;01mtry\u001B[39;00m:\n\u001B[1;32m--> 176\u001B[0m     det_inv \u001B[38;5;241m=\u001B[39m \u001B[43mmod_inverse\u001B[49m\u001B[43m(\u001B[49m\u001B[43mdet_K\u001B[49m\u001B[43m,\u001B[49m\u001B[43m \u001B[49m\u001B[43mm\u001B[49m\u001B[43m)\u001B[49m\n\u001B[0;32m    177\u001B[0m \u001B[38;5;28;01mexcept\u001B[39;00m \u001B[38;5;167;01mValueError\u001B[39;00m:\n",
      "File \u001B[1;32m~\\AppData\\Local\\Programs\\Python\\Python311\\Lib\\site-packages\\sympy\\core\\numbers.py:552\u001B[0m, in \u001B[0;36mmod_inverse\u001B[1;34m(a, m)\u001B[0m\n\u001B[0;32m    551\u001B[0m \u001B[38;5;28;01mif\u001B[39;00m c \u001B[38;5;129;01mis\u001B[39;00m \u001B[38;5;28;01mNone\u001B[39;00m:\n\u001B[1;32m--> 552\u001B[0m     \u001B[38;5;28;01mraise\u001B[39;00m \u001B[38;5;167;01mValueError\u001B[39;00m(\u001B[38;5;124m'\u001B[39m\u001B[38;5;124minverse of \u001B[39m\u001B[38;5;132;01m%s\u001B[39;00m\u001B[38;5;124m (mod \u001B[39m\u001B[38;5;132;01m%s\u001B[39;00m\u001B[38;5;124m) does not exist\u001B[39m\u001B[38;5;124m'\u001B[39m \u001B[38;5;241m%\u001B[39m (a, m))\n\u001B[0;32m    553\u001B[0m \u001B[38;5;28;01mreturn\u001B[39;00m c\n",
      "\u001B[1;31mValueError\u001B[0m: inverse of -4308 (mod 26) does not exist",
      "\nDuring handling of the above exception, another exception occurred:\n",
      "\u001B[1;31mNonInvertibleMatrixError\u001B[0m                  Traceback (most recent call last)",
      "Cell \u001B[1;32mIn [16], line 37\u001B[0m, in \u001B[0;36mmakeReversibleMatrix\u001B[1;34m(start, end, plainText)\u001B[0m\n\u001B[0;32m     36\u001B[0m \u001B[38;5;28;01mtry\u001B[39;00m:\n\u001B[1;32m---> 37\u001B[0m     invMatrix \u001B[38;5;241m=\u001B[39m \u001B[43mmatInvMod\u001B[49m\u001B[43m(\u001B[49m\u001B[43mmatrix\u001B[49m\u001B[43m,\u001B[49m\u001B[43m \u001B[49m\u001B[38;5;241;43m26\u001B[39;49m\u001B[43m)\u001B[49m\n\u001B[0;32m     38\u001B[0m \u001B[38;5;28;01mexcept\u001B[39;00m \u001B[38;5;167;01mException\u001B[39;00m:\n",
      "Cell \u001B[1;32mIn [16], line 11\u001B[0m, in \u001B[0;36mmatInvMod\u001B[1;34m(matrix, mod)\u001B[0m\n\u001B[0;32m     10\u001B[0m tempMatrix \u001B[38;5;241m=\u001B[39m Matrix(matrix)\n\u001B[1;32m---> 11\u001B[0m matrixInv \u001B[38;5;241m=\u001B[39m \u001B[43mtempMatrix\u001B[49m\u001B[38;5;241;43m.\u001B[39;49m\u001B[43minv_mod\u001B[49m\u001B[43m(\u001B[49m\u001B[43mmod\u001B[49m\u001B[43m)\u001B[49m\n\u001B[0;32m     12\u001B[0m inv \u001B[38;5;241m=\u001B[39m np\u001B[38;5;241m.\u001B[39marray(matrixInv)\n",
      "File \u001B[1;32m~\\AppData\\Local\\Programs\\Python\\Python311\\Lib\\site-packages\\sympy\\matrices\\matrices.py:2195\u001B[0m, in \u001B[0;36mMatrixBase.inv_mod\u001B[1;34m(self, m)\u001B[0m\n\u001B[0;32m   2194\u001B[0m \u001B[38;5;28;01mdef\u001B[39;00m \u001B[38;5;21minv_mod\u001B[39m(\u001B[38;5;28mself\u001B[39m, m):\n\u001B[1;32m-> 2195\u001B[0m     \u001B[38;5;28;01mreturn\u001B[39;00m \u001B[43m_inv_mod\u001B[49m\u001B[43m(\u001B[49m\u001B[38;5;28;43mself\u001B[39;49m\u001B[43m,\u001B[49m\u001B[43m \u001B[49m\u001B[43mm\u001B[49m\u001B[43m)\u001B[49m\n",
      "File \u001B[1;32m~\\AppData\\Local\\Programs\\Python\\Python311\\Lib\\site-packages\\sympy\\matrices\\inverse.py:178\u001B[0m, in \u001B[0;36m_inv_mod\u001B[1;34m(M, m)\u001B[0m\n\u001B[0;32m    177\u001B[0m \u001B[38;5;28;01mexcept\u001B[39;00m \u001B[38;5;167;01mValueError\u001B[39;00m:\n\u001B[1;32m--> 178\u001B[0m     \u001B[38;5;28;01mraise\u001B[39;00m NonInvertibleMatrixError(\u001B[38;5;124m'\u001B[39m\u001B[38;5;124mMatrix is not invertible (mod \u001B[39m\u001B[38;5;132;01m%d\u001B[39;00m\u001B[38;5;124m)\u001B[39m\u001B[38;5;124m'\u001B[39m \u001B[38;5;241m%\u001B[39m m)\n\u001B[0;32m    180\u001B[0m K_adj \u001B[38;5;241m=\u001B[39m M\u001B[38;5;241m.\u001B[39madjugate()\n",
      "\u001B[1;31mNonInvertibleMatrixError\u001B[0m: Matrix is not invertible (mod 26)",
      "\nDuring handling of the above exception, another exception occurred:\n",
      "\u001B[1;31mValueError\u001B[0m                                Traceback (most recent call last)",
      "File \u001B[1;32m~\\AppData\\Local\\Programs\\Python\\Python311\\Lib\\site-packages\\sympy\\matrices\\inverse.py:176\u001B[0m, in \u001B[0;36m_inv_mod\u001B[1;34m(M, m)\u001B[0m\n\u001B[0;32m    175\u001B[0m \u001B[38;5;28;01mtry\u001B[39;00m:\n\u001B[1;32m--> 176\u001B[0m     det_inv \u001B[38;5;241m=\u001B[39m \u001B[43mmod_inverse\u001B[49m\u001B[43m(\u001B[49m\u001B[43mdet_K\u001B[49m\u001B[43m,\u001B[49m\u001B[43m \u001B[49m\u001B[43mm\u001B[49m\u001B[43m)\u001B[49m\n\u001B[0;32m    177\u001B[0m \u001B[38;5;28;01mexcept\u001B[39;00m \u001B[38;5;167;01mValueError\u001B[39;00m:\n",
      "File \u001B[1;32m~\\AppData\\Local\\Programs\\Python\\Python311\\Lib\\site-packages\\sympy\\core\\numbers.py:552\u001B[0m, in \u001B[0;36mmod_inverse\u001B[1;34m(a, m)\u001B[0m\n\u001B[0;32m    551\u001B[0m \u001B[38;5;28;01mif\u001B[39;00m c \u001B[38;5;129;01mis\u001B[39;00m \u001B[38;5;28;01mNone\u001B[39;00m:\n\u001B[1;32m--> 552\u001B[0m     \u001B[38;5;28;01mraise\u001B[39;00m \u001B[38;5;167;01mValueError\u001B[39;00m(\u001B[38;5;124m'\u001B[39m\u001B[38;5;124minverse of \u001B[39m\u001B[38;5;132;01m%s\u001B[39;00m\u001B[38;5;124m (mod \u001B[39m\u001B[38;5;132;01m%s\u001B[39;00m\u001B[38;5;124m) does not exist\u001B[39m\u001B[38;5;124m'\u001B[39m \u001B[38;5;241m%\u001B[39m (a, m))\n\u001B[0;32m    553\u001B[0m \u001B[38;5;28;01mreturn\u001B[39;00m c\n",
      "\u001B[1;31mValueError\u001B[0m: inverse of -1294 (mod 26) does not exist",
      "\nDuring handling of the above exception, another exception occurred:\n",
      "\u001B[1;31mNonInvertibleMatrixError\u001B[0m                  Traceback (most recent call last)",
      "Cell \u001B[1;32mIn [16], line 37\u001B[0m, in \u001B[0;36mmakeReversibleMatrix\u001B[1;34m(start, end, plainText)\u001B[0m\n\u001B[0;32m     36\u001B[0m \u001B[38;5;28;01mtry\u001B[39;00m:\n\u001B[1;32m---> 37\u001B[0m     invMatrix \u001B[38;5;241m=\u001B[39m \u001B[43mmatInvMod\u001B[49m\u001B[43m(\u001B[49m\u001B[43mmatrix\u001B[49m\u001B[43m,\u001B[49m\u001B[43m \u001B[49m\u001B[38;5;241;43m26\u001B[39;49m\u001B[43m)\u001B[49m\n\u001B[0;32m     38\u001B[0m \u001B[38;5;28;01mexcept\u001B[39;00m \u001B[38;5;167;01mException\u001B[39;00m:\n",
      "Cell \u001B[1;32mIn [16], line 11\u001B[0m, in \u001B[0;36mmatInvMod\u001B[1;34m(matrix, mod)\u001B[0m\n\u001B[0;32m     10\u001B[0m tempMatrix \u001B[38;5;241m=\u001B[39m Matrix(matrix)\n\u001B[1;32m---> 11\u001B[0m matrixInv \u001B[38;5;241m=\u001B[39m \u001B[43mtempMatrix\u001B[49m\u001B[38;5;241;43m.\u001B[39;49m\u001B[43minv_mod\u001B[49m\u001B[43m(\u001B[49m\u001B[43mmod\u001B[49m\u001B[43m)\u001B[49m\n\u001B[0;32m     12\u001B[0m inv \u001B[38;5;241m=\u001B[39m np\u001B[38;5;241m.\u001B[39marray(matrixInv)\n",
      "File \u001B[1;32m~\\AppData\\Local\\Programs\\Python\\Python311\\Lib\\site-packages\\sympy\\matrices\\matrices.py:2195\u001B[0m, in \u001B[0;36mMatrixBase.inv_mod\u001B[1;34m(self, m)\u001B[0m\n\u001B[0;32m   2194\u001B[0m \u001B[38;5;28;01mdef\u001B[39;00m \u001B[38;5;21minv_mod\u001B[39m(\u001B[38;5;28mself\u001B[39m, m):\n\u001B[1;32m-> 2195\u001B[0m     \u001B[38;5;28;01mreturn\u001B[39;00m \u001B[43m_inv_mod\u001B[49m\u001B[43m(\u001B[49m\u001B[38;5;28;43mself\u001B[39;49m\u001B[43m,\u001B[49m\u001B[43m \u001B[49m\u001B[43mm\u001B[49m\u001B[43m)\u001B[49m\n",
      "File \u001B[1;32m~\\AppData\\Local\\Programs\\Python\\Python311\\Lib\\site-packages\\sympy\\matrices\\inverse.py:178\u001B[0m, in \u001B[0;36m_inv_mod\u001B[1;34m(M, m)\u001B[0m\n\u001B[0;32m    177\u001B[0m \u001B[38;5;28;01mexcept\u001B[39;00m \u001B[38;5;167;01mValueError\u001B[39;00m:\n\u001B[1;32m--> 178\u001B[0m     \u001B[38;5;28;01mraise\u001B[39;00m NonInvertibleMatrixError(\u001B[38;5;124m'\u001B[39m\u001B[38;5;124mMatrix is not invertible (mod \u001B[39m\u001B[38;5;132;01m%d\u001B[39;00m\u001B[38;5;124m)\u001B[39m\u001B[38;5;124m'\u001B[39m \u001B[38;5;241m%\u001B[39m m)\n\u001B[0;32m    180\u001B[0m K_adj \u001B[38;5;241m=\u001B[39m M\u001B[38;5;241m.\u001B[39madjugate()\n",
      "\u001B[1;31mNonInvertibleMatrixError\u001B[0m: Matrix is not invertible (mod 26)",
      "\nDuring handling of the above exception, another exception occurred:\n",
      "\u001B[1;31mValueError\u001B[0m                                Traceback (most recent call last)",
      "Cell \u001B[1;32mIn [16], line 44\u001B[0m\n\u001B[0;32m     40\u001B[0m     \u001B[38;5;28;01mif\u001B[39;00m invMatrix \u001B[38;5;241m!=\u001B[39m \u001B[38;5;124m'\u001B[39m\u001B[38;5;124m'\u001B[39m:\n\u001B[0;32m     41\u001B[0m         \u001B[38;5;28;01mreturn\u001B[39;00m invMatrix\n\u001B[1;32m---> 44\u001B[0m \u001B[38;5;28mprint\u001B[39m(\u001B[43mmakeReversibleMatrix\u001B[49m\u001B[43m(\u001B[49m\u001B[38;5;241;43m0\u001B[39;49m\u001B[43m,\u001B[49m\u001B[43m \u001B[49m\u001B[38;5;241;43m8\u001B[39;49m\u001B[43m,\u001B[49m\u001B[43m \u001B[49m\u001B[43mplain\u001B[49m\u001B[43m)\u001B[49m)\n",
      "Cell \u001B[1;32mIn [16], line 39\u001B[0m, in \u001B[0;36mmakeReversibleMatrix\u001B[1;34m(start, end, plainText)\u001B[0m\n\u001B[0;32m     37\u001B[0m     invMatrix \u001B[38;5;241m=\u001B[39m matInvMod(matrix, \u001B[38;5;241m26\u001B[39m)\n\u001B[0;32m     38\u001B[0m \u001B[38;5;28;01mexcept\u001B[39;00m \u001B[38;5;167;01mException\u001B[39;00m:\n\u001B[1;32m---> 39\u001B[0m     \u001B[43mmakeReversibleMatrix\u001B[49m\u001B[43m(\u001B[49m\u001B[43mstart\u001B[49m\u001B[38;5;241;43m+\u001B[39;49m\u001B[38;5;241;43m3\u001B[39;49m\u001B[43m,\u001B[49m\u001B[43m \u001B[49m\u001B[43mend\u001B[49m\u001B[38;5;241;43m+\u001B[39;49m\u001B[38;5;241;43m3\u001B[39;49m\u001B[43m,\u001B[49m\u001B[43m \u001B[49m\u001B[43mplainText\u001B[49m\u001B[43m)\u001B[49m\n\u001B[0;32m     40\u001B[0m \u001B[38;5;28;01mif\u001B[39;00m invMatrix \u001B[38;5;241m!=\u001B[39m \u001B[38;5;124m'\u001B[39m\u001B[38;5;124m'\u001B[39m:\n\u001B[0;32m     41\u001B[0m     \u001B[38;5;28;01mreturn\u001B[39;00m invMatrix\n",
      "Cell \u001B[1;32mIn [16], line 39\u001B[0m, in \u001B[0;36mmakeReversibleMatrix\u001B[1;34m(start, end, plainText)\u001B[0m\n\u001B[0;32m     37\u001B[0m     invMatrix \u001B[38;5;241m=\u001B[39m matInvMod(matrix, \u001B[38;5;241m26\u001B[39m)\n\u001B[0;32m     38\u001B[0m \u001B[38;5;28;01mexcept\u001B[39;00m \u001B[38;5;167;01mException\u001B[39;00m:\n\u001B[1;32m---> 39\u001B[0m     \u001B[43mmakeReversibleMatrix\u001B[49m\u001B[43m(\u001B[49m\u001B[43mstart\u001B[49m\u001B[38;5;241;43m+\u001B[39;49m\u001B[38;5;241;43m3\u001B[39;49m\u001B[43m,\u001B[49m\u001B[43m \u001B[49m\u001B[43mend\u001B[49m\u001B[38;5;241;43m+\u001B[39;49m\u001B[38;5;241;43m3\u001B[39;49m\u001B[43m,\u001B[49m\u001B[43m \u001B[49m\u001B[43mplainText\u001B[49m\u001B[43m)\u001B[49m\n\u001B[0;32m     40\u001B[0m \u001B[38;5;28;01mif\u001B[39;00m invMatrix \u001B[38;5;241m!=\u001B[39m \u001B[38;5;124m'\u001B[39m\u001B[38;5;124m'\u001B[39m:\n\u001B[0;32m     41\u001B[0m     \u001B[38;5;28;01mreturn\u001B[39;00m invMatrix\n",
      "Cell \u001B[1;32mIn [16], line 40\u001B[0m, in \u001B[0;36mmakeReversibleMatrix\u001B[1;34m(start, end, plainText)\u001B[0m\n\u001B[0;32m     38\u001B[0m \u001B[38;5;28;01mexcept\u001B[39;00m \u001B[38;5;167;01mException\u001B[39;00m:\n\u001B[0;32m     39\u001B[0m     makeReversibleMatrix(start\u001B[38;5;241m+\u001B[39m\u001B[38;5;241m3\u001B[39m, end\u001B[38;5;241m+\u001B[39m\u001B[38;5;241m3\u001B[39m, plainText)\n\u001B[1;32m---> 40\u001B[0m \u001B[38;5;28;01mif\u001B[39;00m invMatrix \u001B[38;5;241m!=\u001B[39m \u001B[38;5;124m'\u001B[39m\u001B[38;5;124m'\u001B[39m:\n\u001B[0;32m     41\u001B[0m     \u001B[38;5;28;01mreturn\u001B[39;00m invMatrix\n",
      "\u001B[1;31mValueError\u001B[0m: The truth value of an array with more than one element is ambiguous. Use a.any() or a.all()"
     ]
    }
   ],
   "source": [
    "import numpy as np\n",
    "from sympy import Matrix\n",
    "\n",
    "\n",
    "def matInvMod (matrix, mod):\n",
    "    width = matrix.shape[0]\n",
    "    height = matrix.shape[1]\n",
    "    if width != height:\n",
    "        raise Exception(\"No square matrix!\")\n",
    "    tempMatrix = Matrix(matrix)\n",
    "    matrixInv = tempMatrix.inv_mod(mod)\n",
    "    inv = np.array(matrixInv)\n",
    "    k = width\n",
    "    temp = [[1 for i in range(k)] for j in range(k)]  # just a 2-d list\n",
    "    tempInv = tempMatrix*matrixInv\n",
    "    for i in range(k):\n",
    "        for j in range(k):\n",
    "            temp[i][j] = tempInv[i,j] % mod\n",
    "    return inv\n",
    "\n",
    "\n",
    "def makeReversibleMatrix(start, end, plainText):\n",
    "    plainTextTemp = plainText[start:end+1]\n",
    "    temp = []\n",
    "    for i in plainTextTemp:\n",
    "        temp.append(ord(i) - ord('a'))\n",
    "    keySize = 3\n",
    "    arr = [[] for i in range(keySize)]\n",
    "    ind = 0\n",
    "    for i in range(keySize):\n",
    "        arr[i].append(temp[ind:ind+3])\n",
    "        ind += keySize\n",
    "    arr1 = np.array(arr)\n",
    "    matrix = np.matrix(arr1)\n",
    "    invMatrix = ''\n",
    "    try:\n",
    "        invMatrix = matInvMod(matrix, 26)\n",
    "    except Exception:\n",
    "        makeReversibleMatrix(start+3, end+3, plainText)\n",
    "    if invMatrix != '':\n",
    "        return invMatrix\n",
    "\n",
    "\n",
    "print(makeReversibleMatrix(0, 8, plain))"
   ],
   "metadata": {
    "collapsed": false,
    "pycharm": {
     "name": "#%%\n"
    }
   }
  },
  {
   "cell_type": "code",
   "execution_count": null,
   "outputs": [],
   "source": [],
   "metadata": {
    "collapsed": false,
    "pycharm": {
     "name": "#%%\n"
    }
   }
  },
  {
   "cell_type": "code",
   "execution_count": null,
   "outputs": [],
   "source": [],
   "metadata": {
    "collapsed": false,
    "pycharm": {
     "name": "#%%\n"
    }
   }
  },
  {
   "cell_type": "code",
   "execution_count": 41,
   "outputs": [],
   "source": [
    "# Hope you like it ;)"
   ],
   "metadata": {
    "collapsed": false,
    "pycharm": {
     "name": "#%%\n"
    }
   }
  }
 ],
 "metadata": {
  "kernelspec": {
   "display_name": "Python 3",
   "language": "python",
   "name": "python3"
  },
  "language_info": {
   "codemirror_mode": {
    "name": "ipython",
    "version": 2
   },
   "file_extension": ".py",
   "mimetype": "text/x-python",
   "name": "python",
   "nbconvert_exporter": "python",
   "pygments_lexer": "ipython2",
   "version": "2.7.6"
  }
 },
 "nbformat": 4,
 "nbformat_minor": 0
}