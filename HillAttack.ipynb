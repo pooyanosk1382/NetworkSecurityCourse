{
 "cells": [
  {
   "cell_type": "code",
   "execution_count": 38,
   "outputs": [],
   "source": [
    "# This code is developed by Pooyan :D"
   ],
   "metadata": {
    "collapsed": false,
    "pycharm": {
     "name": "#%%\n"
    }
   }
  },
  {
   "cell_type": "markdown",
   "source": [
    "# Hill Attack\n",
    "As we know for attack to hill cipher we just need to solve some system of equations."
   ],
   "metadata": {
    "collapsed": false,
    "pycharm": {
     "name": "#%% md\n"
    }
   }
  },
  {
   "cell_type": "markdown",
   "source": [
    "We define a function to read cipher and plain text from files."
   ],
   "metadata": {
    "collapsed": false,
    "pycharm": {
     "name": "#%% md\n"
    }
   }
  },
  {
   "cell_type": "code",
   "execution_count": 39,
   "outputs": [
    {
     "name": "stdout",
     "output_type": "stream",
     "text": [
      "QQNMCAVNGRIZJJTTNCGCZVSVMVR salamkhubidadashchekhabar\n"
     ]
    }
   ],
   "source": [
    "def removeSpaces(text):\n",
    "    newText = \"\"\n",
    "    for i in text:\n",
    "        if i == \" \":\n",
    "            continue\n",
    "        else:\n",
    "            newText = newText + i\n",
    "    return newText\n",
    "\n",
    "\n",
    "def reader(cipherFileName, plainFileName):\n",
    "    cipherFile = open(cipherFileName, 'r')\n",
    "    plainFile = open(plainFileName, 'r')\n",
    "    cipherText = cipherFile.read()\n",
    "    plainText = plainFile.read()\n",
    "    plainText = removeSpaces(plainText)\n",
    "    return cipherText, plainText\n",
    "\n",
    "\n",
    "a, b = reader('hillCipher.txt', 'hillPlain.txt')\n",
    "print(a, b)"
   ],
   "metadata": {
    "collapsed": false,
    "pycharm": {
     "name": "#%%\n"
    }
   }
  },
  {
   "cell_type": "markdown",
   "source": [
    "Now define a function to get texts and return the key values."
   ],
   "metadata": {
    "collapsed": false,
    "pycharm": {
     "name": "#%% md\n"
    }
   }
  },
  {
   "cell_type": "code",
   "execution_count": 40,
   "outputs": [
    {
     "name": "stdout",
     "output_type": "stream",
     "text": [
      "{a11: 785/1077, a21: 842/1077, a31: 94/359}\n",
      "{a12: 357/359, a22: 223/718, a32: -62/359}\n",
      "{a13: 809/1077, a23: 85/2154, a33: -17/359}\n"
     ]
    }
   ],
   "source": [
    "from sympy import *\n",
    "def keyFinder(cipherText, plainText):\n",
    "    a11 , a12, a13, a21, a22, a23, a31, a32, a33 = symbols('a11 a12 a13 a21 a22 a23 a31 a32 a33')\n",
    "\n",
    "    print(solve([Eq(((ord(plainText[0])-ord('a'))*a11 + (ord(plainText[1])-ord('a'))*a21 + (ord(plainText[2])-ord('a'))*a31), ord(cipherText[0])-ord('A')), Eq(((ord(plainText[3])-ord('a'))*a11 + (ord(plainText[4])-ord('a'))*a21 + (ord(plainText[5])-ord('a'))*a31), ord(cipherText[3])-ord('A')), Eq(((ord(plainText[6])-ord('a'))*a11 + (ord(plainText[7])-ord('a'))*a21 + (ord(plainText[8])-ord('a'))*a31), ord(cipherText[6])-ord('A'))]))\n",
    "\n",
    "    print(solve([Eq(((ord(plainText[0])-ord('a'))*a12 + (ord(plainText[1])-ord('a'))*a22 + (ord(plainText[2])-ord('a'))*a32), ord(cipherText[1])-ord('A')), Eq(((ord(plainText[3])-ord('a'))*a12 + (ord(plainText[4])-ord('a'))*a22 + (ord(plainText[5])-ord('a'))*a32), ord(cipherText[4])-ord('A')), Eq(((ord(plainText[6])-ord('a'))*a12 + (ord(plainText[7])-ord('a'))*a22 + (ord(plainText[8])-ord('a'))*a32), ord(cipherText[7])-ord('A'))]))\n",
    "\n",
    "    print(solve([Eq(((ord(plainText[0])-ord('a'))*a13 + (ord(plainText[1])-ord('a'))*a23 + (ord(plainText[2])-ord('a'))*a33), ord(cipherText[2])-ord('A')), Eq(((ord(plainText[3])-ord('a'))*a13 + (ord(plainText[4])-ord('a'))*a23 + (ord(plainText[5])-ord('a'))*a33), ord(cipherText[5])-ord('A')), Eq(((ord(plainText[6])-ord('a'))*a13 + (ord(plainText[7])-ord('a'))*a23 + (ord(plainText[8])-ord('a'))*a33), ord(cipherText[8])-ord('A'))]))\n",
    "\n",
    "keyFinder(a, b)"
   ],
   "metadata": {
    "collapsed": false,
    "pycharm": {
     "name": "#%%\n"
    }
   }
  },
  {
   "cell_type": "code",
   "execution_count": 41,
   "outputs": [],
   "source": [
    "# Hope you like it ;)"
   ],
   "metadata": {
    "collapsed": false,
    "pycharm": {
     "name": "#%%\n"
    }
   }
  }
 ],
 "metadata": {
  "kernelspec": {
   "display_name": "Python 3",
   "language": "python",
   "name": "python3"
  },
  "language_info": {
   "codemirror_mode": {
    "name": "ipython",
    "version": 2
   },
   "file_extension": ".py",
   "mimetype": "text/x-python",
   "name": "python",
   "nbconvert_exporter": "python",
   "pygments_lexer": "ipython2",
   "version": "2.7.6"
  }
 },
 "nbformat": 4,
 "nbformat_minor": 0
}