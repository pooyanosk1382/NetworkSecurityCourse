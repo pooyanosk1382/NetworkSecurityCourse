{
 "cells": [
  {
   "cell_type": "code",
   "execution_count": 236,
   "outputs": [],
   "source": [
    "# This code is developed by Pooyan :D"
   ],
   "metadata": {
    "collapsed": false,
    "pycharm": {
     "name": "#%%\n"
    }
   }
  },
  {
   "cell_type": "markdown",
   "source": [
    "\n",
    "# Play Fair Cipher\n",
    "The Playfair cipher or Playfair square or Wheatstone–Playfair cipher is a manual symmetric encryption technique and was the first literal digram substitution cipher. The scheme was invented in 1854 by Charles Wheatstone, but bears the name of Lord Playfair for promoting its use.\n",
    "The technique encrypts pairs of letters (bigrams or digrams), instead of single letters as in the simple substitution cipher and rather more complex Vigenère cipher systems then in use. The Playfair is thus significantly harder to break since the frequency analysis used for simple substitution ciphers does not work with it. The frequency analysis of bigrams is possible, but considerably more difficult. With 600 possible bigrams rather than the 26 possible monograms (single symbols, usually letters in this context), a considerably larger cipher text is required in order to be useful."
   ],
   "metadata": {
    "collapsed": false,
    "pycharm": {
     "name": "#%% md\n"
    }
   }
  },
  {
   "cell_type": "markdown",
   "source": [
    "Here we define a to lower case function."
   ],
   "metadata": {
    "collapsed": false,
    "pycharm": {
     "name": "#%% md\n"
    }
   }
  },
  {
   "cell_type": "code",
   "execution_count": 237,
   "outputs": [],
   "source": [
    "def toLowerCase(text):\n",
    "    return text.lower()"
   ],
   "metadata": {
    "collapsed": false,
    "pycharm": {
     "name": "#%%\n"
    }
   }
  },
  {
   "cell_type": "markdown",
   "source": [
    "A function to remove all spaces."
   ],
   "metadata": {
    "collapsed": false,
    "pycharm": {
     "name": "#%% md\n"
    }
   }
  },
  {
   "cell_type": "code",
   "execution_count": 238,
   "outputs": [],
   "source": [
    "def removeSpaces(text):\n",
    "    newText = \"\"\n",
    "    for i in text:\n",
    "        if i == \" \":\n",
    "            continue\n",
    "        else:\n",
    "            newText = newText + i\n",
    "    return newText"
   ],
   "metadata": {
    "collapsed": false,
    "pycharm": {
     "name": "#%%\n"
    }
   }
  },
  {
   "cell_type": "markdown",
   "source": [
    "Now we define a function to make cluster."
   ],
   "metadata": {
    "collapsed": false,
    "pycharm": {
     "name": "#%% md\n"
    }
   }
  },
  {
   "cell_type": "code",
   "execution_count": 239,
   "outputs": [],
   "source": [
    "def cluster(text):\n",
    "    cluster = []\n",
    "    group = 0\n",
    "    for i in range(2, len(text), 2):\n",
    "        cluster.append(text[group:i])\n",
    "        group = i\n",
    "    cluster.append(text[group:])\n",
    "    return cluster"
   ],
   "metadata": {
    "collapsed": false,
    "pycharm": {
     "name": "#%%\n"
    }
   }
  },
  {
   "cell_type": "markdown",
   "source": [
    "In here handle if two same letter are together"
   ],
   "metadata": {
    "collapsed": false,
    "pycharm": {
     "name": "#%% md\n"
    }
   }
  },
  {
   "cell_type": "code",
   "execution_count": 240,
   "outputs": [],
   "source": [
    "def fillerLetter(text):\n",
    "    k = len(text)\n",
    "    if k % 2 == 0:\n",
    "        for i in range(0, k, 2):\n",
    "            if text[i] == text[i+1]:\n",
    "                newWord = text[0:i+1] + str('x') + text[i+1:]\n",
    "                newWord = fillerLetter(newWord)\n",
    "                break\n",
    "            else:\n",
    "                newWord = text\n",
    "    else:\n",
    "        for i in range(0, k-1, 2):\n",
    "            if text[i] == text[i+1]:\n",
    "                newWord = text[0:i+1] + str('x') + text[i+1:]\n",
    "                newWord = fillerLetter(newWord)\n",
    "                break\n",
    "            else:\n",
    "                newWord = text\n",
    "    return newWord"
   ],
   "metadata": {
    "collapsed": false,
    "pycharm": {
     "name": "#%%\n"
    }
   }
  },
  {
   "cell_type": "code",
   "execution_count": 241,
   "outputs": [],
   "source": [
    "def createPlainList(string):\n",
    "    string = removeSpaces(toLowerCase(string))\n",
    "    plainTextList = cluster(fillerLetter(string))\n",
    "    if len(plainTextList[-1]) % 2 != 0:\n",
    "        plainTextList[-1] += 'x'\n",
    "    return plainTextList"
   ],
   "metadata": {
    "collapsed": false,
    "pycharm": {
     "name": "#%%\n"
    }
   }
  },
  {
   "cell_type": "code",
   "execution_count": 242,
   "outputs": [],
   "source": [
    "def createCipherList(string):\n",
    "    string = removeSpaces(toLowerCase(string))\n",
    "    cipherTextList = cluster(fillerLetter(string))\n",
    "    if len(cipherTextList[-1]) % 2 != 0:\n",
    "        cipherTextList[-1] += 'x'\n",
    "    return cipherTextList"
   ],
   "metadata": {
    "collapsed": false,
    "pycharm": {
     "name": "#%%\n"
    }
   }
  },
  {
   "cell_type": "code",
   "execution_count": 243,
   "outputs": [],
   "source": [
    "listAlphabet = ['a', 'b', 'c', 'd', 'e', 'f', 'g', 'h', 'i', 'k', 'l', 'm',\n",
    "         'n', 'o', 'p', 'q', 'r', 's', 't', 'u', 'v', 'w', 'x', 'y', 'z']"
   ],
   "metadata": {
    "collapsed": false,
    "pycharm": {
     "name": "#%%\n"
    }
   }
  },
  {
   "cell_type": "markdown",
   "source": [
    "In here create table with key."
   ],
   "metadata": {
    "collapsed": false,
    "pycharm": {
     "name": "#%% md\n"
    }
   }
  },
  {
   "cell_type": "code",
   "execution_count": 244,
   "outputs": [],
   "source": [
    "def generateKeyTable(word, list1):\n",
    "    word = toLowerCase(word)\n",
    "    keyLetters = []\n",
    "    for i in word:\n",
    "        if i not in keyLetters:\n",
    "            keyLetters.append(i)\n",
    "\n",
    "    compElements = []\n",
    "    for i in keyLetters:\n",
    "        if i not in compElements:\n",
    "            compElements.append(i)\n",
    "    for i in list1:\n",
    "        if i not in compElements:\n",
    "            compElements.append(i)\n",
    "\n",
    "    matrix = []\n",
    "    while compElements:\n",
    "        matrix.append(compElements[:5])\n",
    "        compElements = compElements[5:]\n",
    "\n",
    "    return matrix"
   ],
   "metadata": {
    "collapsed": false,
    "pycharm": {
     "name": "#%%\n"
    }
   }
  },
  {
   "cell_type": "markdown",
   "source": [
    "Function for searchin in table."
   ],
   "metadata": {
    "collapsed": false,
    "pycharm": {
     "name": "#%% md\n"
    }
   }
  },
  {
   "cell_type": "code",
   "execution_count": 245,
   "outputs": [],
   "source": [
    "def search(mat, element):\n",
    "    for i in range(5):\n",
    "        for j in range(5):\n",
    "            if mat[i][j] == element:\n",
    "                return i, j"
   ],
   "metadata": {
    "collapsed": false,
    "pycharm": {
     "name": "#%%\n"
    }
   }
  },
  {
   "cell_type": "markdown",
   "source": [
    "How to encrypt if two letters are in the same row:"
   ],
   "metadata": {
    "collapsed": false,
    "pycharm": {
     "name": "#%% md\n"
    }
   }
  },
  {
   "cell_type": "code",
   "execution_count": 246,
   "outputs": [],
   "source": [
    "def encrypt_RowRule(MX, e1r, e1c, e2r, e2c):\n",
    "    char1 = ''\n",
    "    if e1c == 4:\n",
    "        char1 = MX[e1r][0]\n",
    "    else:\n",
    "        char1 = MX[e1r][e1c+1]\n",
    "\n",
    "    char2 = ''\n",
    "    if e2c == 4:\n",
    "        char2 = MX[e2r][0]\n",
    "    else:\n",
    "        char2 = MX[e2r][e2c+1]\n",
    "\n",
    "    return char1, char2"
   ],
   "metadata": {
    "collapsed": false,
    "pycharm": {
     "name": "#%%\n"
    }
   }
  },
  {
   "cell_type": "markdown",
   "source": [
    "How to encrypt if two letters are in the same column:"
   ],
   "metadata": {
    "collapsed": false,
    "pycharm": {
     "name": "#%% md\n"
    }
   }
  },
  {
   "cell_type": "code",
   "execution_count": 247,
   "outputs": [],
   "source": [
    "def encrypt_ColumnRule(MX, e1r, e1c, e2r, e2c):\n",
    "    char1 = ''\n",
    "    if e1r == 4:\n",
    "        char1 = MX[0][e1c]\n",
    "    else:\n",
    "        char1 = MX[e1r+1][e1c]\n",
    "\n",
    "    char2 = ''\n",
    "    if e2r == 4:\n",
    "        char2 = MX[0][e2c]\n",
    "    else:\n",
    "        char2 = MX[e2r+1][e2c]\n",
    "\n",
    "    return char1, char2"
   ],
   "metadata": {
    "collapsed": false,
    "pycharm": {
     "name": "#%%\n"
    }
   }
  },
  {
   "cell_type": "markdown",
   "source": [
    "How to encrypt if two letters are not in the same row and column:"
   ],
   "metadata": {
    "collapsed": false,
    "pycharm": {
     "name": "#%% md\n"
    }
   }
  },
  {
   "cell_type": "code",
   "execution_count": 248,
   "outputs": [],
   "source": [
    "def encrypt_RectangleRule(MX, e1r, e1c, e2r, e2c):\n",
    "    char1 = ''\n",
    "    char1 = MX[e1r][e2c]\n",
    "\n",
    "    char2 = ''\n",
    "    char2 = MX[e2r][e1c]\n",
    "\n",
    "    return char1, char2"
   ],
   "metadata": {
    "collapsed": false,
    "pycharm": {
     "name": "#%%\n"
    }
   }
  },
  {
   "cell_type": "markdown",
   "source": [
    "The main function for encryption:"
   ],
   "metadata": {
    "collapsed": false,
    "pycharm": {
     "name": "#%% md\n"
    }
   }
  },
  {
   "cell_type": "code",
   "execution_count": 249,
   "outputs": [],
   "source": [
    "def encryptByPlayfairCipher(Matrix, plainList):\n",
    "    CipherText = []\n",
    "    for i in range(0, len(plainList)):\n",
    "        c1 = 0\n",
    "        c2 = 0\n",
    "        ele1_x, ele1_y = search(Matrix, plainList[i][0])\n",
    "        ele2_x, ele2_y = search(Matrix, plainList[i][1])\n",
    "\n",
    "        if ele1_x == ele2_x:\n",
    "            c1, c2 = encrypt_RowRule(Matrix, ele1_x, ele1_y, ele2_x, ele2_y)\n",
    "            # Get 2 letter cipherText\n",
    "        elif ele1_y == ele2_y:\n",
    "            c1, c2 = encrypt_ColumnRule(Matrix, ele1_x, ele1_y, ele2_x, ele2_y)\n",
    "        else:\n",
    "            c1, c2 = encrypt_RectangleRule(\n",
    "                Matrix, ele1_x, ele1_y, ele2_x, ele2_y)\n",
    "\n",
    "        cipher = c1 + c2\n",
    "        CipherText.append(cipher)\n",
    "    return CipherText"
   ],
   "metadata": {
    "collapsed": false,
    "pycharm": {
     "name": "#%%\n"
    }
   }
  },
  {
   "cell_type": "code",
   "execution_count": 250,
   "outputs": [],
   "source": [
    "def decrypt_RowRule(MX, e1r, e1c, e2r, e2c):\n",
    "    char1 = ''\n",
    "    if e1c == 0:\n",
    "        char1 = MX[e1r][4]\n",
    "    else:\n",
    "        char1 = MX[e1r][e1c-1]\n",
    "\n",
    "    char2 = ''\n",
    "    if e2c == 0:\n",
    "        char2 = MX[e2r][4]\n",
    "    else:\n",
    "        char2 = MX[e2r][e2c-1]\n",
    "\n",
    "    return char1, char2"
   ],
   "metadata": {
    "collapsed": false,
    "pycharm": {
     "name": "#%%\n"
    }
   }
  },
  {
   "cell_type": "code",
   "execution_count": 251,
   "outputs": [],
   "source": [
    "def decrypt_ColumnRule(MX, e1r, e1c, e2r, e2c):\n",
    "    char1 = ''\n",
    "    if e1r == 0:\n",
    "        char1 = MX[4][e1c]\n",
    "    else:\n",
    "        char1 = MX[e1r-1][e1c]\n",
    "\n",
    "    char2 = ''\n",
    "    if e2r == 0:\n",
    "        char2 = MX[4][e2c]\n",
    "    else:\n",
    "        char2 = MX[e2r-1][e2c]\n",
    "\n",
    "    return char1, char2"
   ],
   "metadata": {
    "collapsed": false,
    "pycharm": {
     "name": "#%%\n"
    }
   }
  },
  {
   "cell_type": "code",
   "execution_count": 252,
   "outputs": [],
   "source": [
    "def decrypt_RectangleRule(MX, e1r, e1c, e2r, e2c):\n",
    "    char1 = ''\n",
    "    char1 = MX[e1r][e2c]\n",
    "\n",
    "    char2 = ''\n",
    "    char2 = MX[e2r][e1c]\n",
    "\n",
    "    return char1, char2"
   ],
   "metadata": {
    "collapsed": false,
    "pycharm": {
     "name": "#%%\n"
    }
   }
  },
  {
   "cell_type": "code",
   "execution_count": 253,
   "outputs": [],
   "source": [
    "def decryptByPlayfairCipher(Matrix, cipherList):\n",
    "    plainText = []\n",
    "    for i in range(0, len(cipherList)):\n",
    "        c1 = 0\n",
    "        c2 = 0\n",
    "        ele1_x, ele1_y = search(Matrix, cipherList[i][0])\n",
    "        ele2_x, ele2_y = search(Matrix, cipherList[i][1])\n",
    "\n",
    "        if ele1_x == ele2_x:\n",
    "            c1, c2 = decrypt_RowRule(Matrix, ele1_x, ele1_y, ele2_x, ele2_y)\n",
    "            # Get 2 letter cipherText\n",
    "        elif ele1_y == ele2_y:\n",
    "            c1, c2 = decrypt_ColumnRule(Matrix, ele1_x, ele1_y, ele2_x, ele2_y)\n",
    "        else:\n",
    "            c1, c2 = decrypt_RectangleRule(\n",
    "                Matrix, ele1_x, ele1_y, ele2_x, ele2_y)\n",
    "\n",
    "        plain = c1 + c2\n",
    "        plainText.append(plain)\n",
    "    return plainText"
   ],
   "metadata": {
    "collapsed": false,
    "pycharm": {
     "name": "#%%\n"
    }
   }
  },
  {
   "cell_type": "code",
   "execution_count": 257,
   "outputs": [
    {
     "name": "stdout",
     "output_type": "stream",
     "text": [
      "CipherText: UINZLM\n"
     ]
    }
   ],
   "source": [
    "plain = 'pooyan'\n",
    "plainText = createPlainList(plain)\n",
    "key = \"real\"\n",
    "matrix = generateKeyTable(key, listAlphabet)\n",
    "cipherList = encryptByPlayfairCipher(matrix, plainText)\n",
    "cipherText = \"\"\n",
    "for i in cipherList:\n",
    "    cipherText += i\n",
    "print(\"CipherText:\", cipherText.upper())"
   ],
   "metadata": {
    "collapsed": false,
    "pycharm": {
     "name": "#%%\n"
    }
   }
  },
  {
   "cell_type": "code",
   "execution_count": 258,
   "outputs": [
    {
     "name": "stdout",
     "output_type": "stream",
     "text": [
      "PlainText: pooyan\n"
     ]
    }
   ],
   "source": [
    "cipher = 'UINZLM'\n",
    "cipherText = createCipherList(cipher)\n",
    "key = 'real'\n",
    "matrix = generateKeyTable(key, listAlphabet)\n",
    "plainList = decryptByPlayfairCipher(matrix, cipherText)\n",
    "plainText = \"\"\n",
    "for i in plainList:\n",
    "    plainText += i\n",
    "print(\"PlainText:\", plainText.lower())"
   ],
   "metadata": {
    "collapsed": false,
    "pycharm": {
     "name": "#%%\n"
    }
   }
  },
  {
   "cell_type": "code",
   "execution_count": 256,
   "outputs": [],
   "source": [
    "# Hope you like it ;)"
   ],
   "metadata": {
    "collapsed": false,
    "pycharm": {
     "name": "#%%\n"
    }
   }
  }
 ],
 "metadata": {
  "kernelspec": {
   "display_name": "Python 3",
   "language": "python",
   "name": "python3"
  },
  "language_info": {
   "codemirror_mode": {
    "name": "ipython",
    "version": 2
   },
   "file_extension": ".py",
   "mimetype": "text/x-python",
   "name": "python",
   "nbconvert_exporter": "python",
   "pygments_lexer": "ipython2",
   "version": "2.7.6"
  }
 },
 "nbformat": 4,
 "nbformat_minor": 0
}