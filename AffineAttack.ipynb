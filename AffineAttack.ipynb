{
 "cells": [
  {
   "cell_type": "code",
   "execution_count": 8,
   "outputs": [],
   "source": [
    "# This code is developed by Pooyan :D"
   ],
   "metadata": {
    "collapsed": false,
    "pycharm": {
     "name": "#%%\n"
    }
   }
  },
  {
   "cell_type": "markdown",
   "source": [
    "# Affine Attack\n",
    "As we know in Affine cipher we just have an equation with two values of 'a' and 'b', so for attacking we just need to solve two equations."
   ],
   "metadata": {
    "collapsed": false,
    "pycharm": {
     "name": "#%% md\n"
    }
   }
  },
  {
   "cell_type": "markdown",
   "source": [
    "First define a function to read a plain text and a cipher text from files."
   ],
   "metadata": {
    "collapsed": false,
    "pycharm": {
     "name": "#%% md\n"
    }
   }
  },
  {
   "cell_type": "code",
   "execution_count": 9,
   "outputs": [
    {
     "name": "stdout",
     "output_type": "stream",
     "text": [
      "IABEIBEIZBEEBAIZBEIAZBIQ ishaihaidhaahsidhaisdhi\n"
     ]
    }
   ],
   "source": [
    "def removeSpaces(text):\n",
    "    newText = \"\"\n",
    "    for i in text:\n",
    "        if i == \" \":\n",
    "            continue\n",
    "        else:\n",
    "            newText = newText + i\n",
    "    return newText\n",
    "\n",
    "\n",
    "def reader(cipherFileName, plainFileName):\n",
    "    cipherFile = open(cipherFileName, 'r')\n",
    "    plainFile = open(plainFileName, 'r')\n",
    "    cipherText = cipherFile.read()\n",
    "    plainText = plainFile.read()\n",
    "    plainText = removeSpaces(plainText)\n",
    "    return cipherText, plainText\n",
    "\n",
    "\n",
    "a, b = reader('affineCipher.txt', 'affinePlain.txt')\n",
    "print(a, b)"
   ],
   "metadata": {
    "collapsed": false,
    "pycharm": {
     "name": "#%%\n"
    }
   }
  },
  {
   "cell_type": "markdown",
   "source": [
    "Now define the main function that returns the key value."
   ],
   "metadata": {
    "collapsed": false,
    "pycharm": {
     "name": "#%% md\n"
    }
   }
  },
  {
   "cell_type": "code",
   "execution_count": 10,
   "outputs": [
    {
     "name": "stdout",
     "output_type": "stream",
     "text": [
      "{a: -4/5, b: 72/5}\n"
     ]
    }
   ],
   "source": [
    "from sympy import *\n",
    "def keyFinder(cipherText, plainText):\n",
    "    a, b = symbols('a b')\n",
    "    print(solve([Eq(a*(ord(plainText[0])-ord('a')) + b, ord(cipherText[0])-ord('A')), Eq(a*(ord(plainText[1])-ord('a')) + b, ord(cipherText[1])-ord('A'))]))\n",
    "keyFinder(a, b)"
   ],
   "metadata": {
    "collapsed": false,
    "pycharm": {
     "name": "#%%\n"
    }
   }
  },
  {
   "cell_type": "code",
   "execution_count": 11,
   "outputs": [],
   "source": [
    "# Hope you like it ;)"
   ],
   "metadata": {
    "collapsed": false,
    "pycharm": {
     "name": "#%%\n"
    }
   }
  }
 ],
 "metadata": {
  "kernelspec": {
   "display_name": "Python 3",
   "language": "python",
   "name": "python3"
  },
  "language_info": {
   "codemirror_mode": {
    "name": "ipython",
    "version": 2
   },
   "file_extension": ".py",
   "mimetype": "text/x-python",
   "name": "python",
   "nbconvert_exporter": "python",
   "pygments_lexer": "ipython2",
   "version": "2.7.6"
  }
 },
 "nbformat": 4,
 "nbformat_minor": 0
}