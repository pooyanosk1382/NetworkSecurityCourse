{
 "cells": [
  {
   "cell_type": "code",
   "execution_count": 4,
   "outputs": [],
   "source": [
    "# This code is developed by Pooyan :D"
   ],
   "metadata": {
    "collapsed": false,
    "pycharm": {
     "name": "#%%\n"
    }
   }
  },
  {
   "cell_type": "markdown",
   "source": [
    "# Affine Attack\n",
    "As we know in Affine cipher we just have an equation with two values of 'a' and 'b', so for attacking we just need to solve two equations."
   ],
   "metadata": {
    "collapsed": false,
    "pycharm": {
     "name": "#%% md\n"
    }
   }
  },
  {
   "cell_type": "markdown",
   "source": [
    "First define a function to read a plain text and a cipher text from files."
   ],
   "metadata": {
    "collapsed": false,
    "pycharm": {
     "name": "#%% md\n"
    }
   }
  },
  {
   "cell_type": "code",
   "execution_count": 5,
   "outputs": [
    {
     "name": "stdout",
     "output_type": "stream",
     "text": [
      "IABEIBEIZBEEBAIZBEIAZBIQ ishaihaidhaahsidhaisdhi\n"
     ]
    }
   ],
   "source": [
    "def removeSpaces(text):\n",
    "    newText = \"\"\n",
    "    for i in text:\n",
    "        if i == \" \":\n",
    "            continue\n",
    "        else:\n",
    "            newText = newText + i\n",
    "    return newText\n",
    "\n",
    "\n",
    "def reader(cipherFileName, plainFileName):\n",
    "    cipherFile = open(cipherFileName, 'r')\n",
    "    plainFile = open(plainFileName, 'r')\n",
    "    cipherText = cipherFile.read()\n",
    "    plainText = plainFile.read()\n",
    "    plainText = removeSpaces(plainText)\n",
    "    return cipherText, plainText\n",
    "\n",
    "\n",
    "cipherText, plainText = reader('affineCipher.txt', 'affinePlain.txt')\n",
    "alphabets = \"ABCDEFGHIJKLMNOPQRSTUVWXYZ\"\n",
    "print(cipherText, plainText)"
   ],
   "metadata": {
    "collapsed": false,
    "pycharm": {
     "name": "#%%\n"
    }
   }
  },
  {
   "cell_type": "markdown",
   "source": [
    "Now define the main function that returns the key value."
   ],
   "metadata": {
    "collapsed": false,
    "pycharm": {
     "name": "#%% md\n"
    }
   }
  },
  {
   "cell_type": "code",
   "execution_count": 6,
   "outputs": [
    {
     "name": "stdout",
     "output_type": "stream",
     "text": [
      "Cipher text is: IABEIBEIZBEEBAIZBEIAZBIQ\n",
      "Hacked Keys might be:(See at the end,found key)\n"
     ]
    },
    {
     "ename": "IndexError",
     "evalue": "list index out of range",
     "output_type": "error",
     "traceback": [
      "\u001B[1;31m---------------------------------------------------------------------------\u001B[0m",
      "\u001B[1;31mIndexError\u001B[0m                                Traceback (most recent call last)",
      "Cell \u001B[1;32mIn [6], line 34\u001B[0m\n\u001B[0;32m     31\u001B[0m             \u001B[38;5;28;01mif\u001B[39;00m temp \u001B[38;5;241m==\u001B[39m plainText:  \u001B[38;5;66;03m#when predicted text is same as Plain text, keys has found.\u001B[39;00m\n\u001B[0;32m     32\u001B[0m                 my_keys \u001B[38;5;241m=\u001B[39m [a,b]\n\u001B[1;32m---> 34\u001B[0m \u001B[38;5;28mprint\u001B[39m(\u001B[38;5;124m\"\u001B[39m\u001B[38;5;130;01m\\n\u001B[39;00m\u001B[38;5;124m Key has found:- keys(\u001B[39m\u001B[38;5;132;01m%d\u001B[39;00m\u001B[38;5;124m,\u001B[39m\u001B[38;5;132;01m%d\u001B[39;00m\u001B[38;5;124m)\u001B[39m\u001B[38;5;124m\"\u001B[39m\u001B[38;5;241m%\u001B[39m (\u001B[43mmy_keys\u001B[49m\u001B[43m[\u001B[49m\u001B[38;5;241;43m0\u001B[39;49m\u001B[43m]\u001B[49m,my_keys[\u001B[38;5;241m1\u001B[39m]))\n",
      "\u001B[1;31mIndexError\u001B[0m: list index out of range"
     ]
    }
   ],
   "source": [
    "def gcd(a, b):\n",
    "    if a == 0 :\n",
    "        return b\n",
    "    return gcd(b%a, a)\n",
    "\n",
    "def modInverse(a, m) :\n",
    "    a = a % m;\n",
    "    for x in range(1, m) :\n",
    "        if (a * x) % m == 1 :\n",
    "            return x\n",
    "    return 1\n",
    "\n",
    "print(\"Cipher text is:\", cipherText)\n",
    "my_keys = []\n",
    "print(\"Hacked Keys might be:(See at the end,found key)\")\n",
    "for a in range(1,26,1):\n",
    "    for b in range(26):\n",
    "        if gcd(a,b)==1:   #as we know only 12*26 = 312 cases are there for Relative Prime.\n",
    "            temp = ''\n",
    "\n",
    "            a_inv = modInverse(a,26)\n",
    "            for ch in cipherText:\n",
    "                if ch in alphabets:\n",
    "                    num = (alphabets.find(ch) - b ) *  a_inv     # Pi = [(Ci – b) * a^(-1) ] mod 26\n",
    "                    num = num % 26\n",
    "                    if num < 0:\n",
    "                        num = num + 26\n",
    "                    temp = temp + alphabets[num]\n",
    "                else:\n",
    "                    temp = temp + ch\n",
    "            if temp == plainText:  #when predicted text is same as Plain text, keys has found.\n",
    "                my_keys = [a,b]\n",
    "\n",
    "print(\"\\n Key has found:- keys(%d,%d)\"% (my_keys[0],my_keys[1]))"
   ],
   "metadata": {
    "collapsed": false,
    "pycharm": {
     "name": "#%%\n"
    }
   }
  },
  {
   "cell_type": "code",
   "execution_count": null,
   "outputs": [],
   "source": [
    "# Hope you like it ;)"
   ],
   "metadata": {
    "collapsed": false,
    "pycharm": {
     "name": "#%%\n"
    }
   }
  }
 ],
 "metadata": {
  "kernelspec": {
   "display_name": "Python 3",
   "language": "python",
   "name": "python3"
  },
  "language_info": {
   "codemirror_mode": {
    "name": "ipython",
    "version": 2
   },
   "file_extension": ".py",
   "mimetype": "text/x-python",
   "name": "python",
   "nbconvert_exporter": "python",
   "pygments_lexer": "ipython2",
   "version": "2.7.6"
  }
 },
 "nbformat": 4,
 "nbformat_minor": 0
}