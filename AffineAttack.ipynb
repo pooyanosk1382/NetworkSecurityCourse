{
 "cells": [
  {
   "cell_type": "code",
   "execution_count": 14,
   "outputs": [],
   "source": [
    "# This code is developed by Pooyan :D"
   ],
   "metadata": {
    "collapsed": false,
    "pycharm": {
     "name": "#%%\n"
    }
   }
  },
  {
   "cell_type": "markdown",
   "source": [
    "# Affine Attack\n",
    "As we know in Affine cipher we just have an equation with two values of 'a' and 'b', so for attacking we just need to have a brute force on a and b."
   ],
   "metadata": {
    "collapsed": false,
    "pycharm": {
     "name": "#%% md\n"
    }
   }
  },
  {
   "cell_type": "markdown",
   "source": [
    "First define a function to read a plain text and a cipher text from files."
   ],
   "metadata": {
    "collapsed": false,
    "pycharm": {
     "name": "#%% md\n"
    }
   }
  },
  {
   "cell_type": "code",
   "execution_count": 15,
   "outputs": [
    {
     "name": "stdout",
     "output_type": "stream",
     "text": [
      "WMXEWXEWBXEEXMWBXEWMBXW ishaihaidhaahsidhaisdhi\n"
     ]
    }
   ],
   "source": [
    "def removeSpaces(text):\n",
    "    newText = \"\"\n",
    "    for i in text:\n",
    "        if i == \" \":\n",
    "            continue\n",
    "        else:\n",
    "            newText = newText + i\n",
    "    return newText\n",
    "\n",
    "\n",
    "def reader(cipherFileName, plainFileName):\n",
    "    cipherFile = open(cipherFileName, 'r')\n",
    "    plainFile = open(plainFileName, 'r')\n",
    "    cipherText = cipherFile.read()\n",
    "    plainText = plainFile.read()\n",
    "    plainText = removeSpaces(plainText)\n",
    "    return cipherText, plainText\n",
    "\n",
    "\n",
    "cipherText, plainText = reader('affineCipher.txt', 'affinePlain.txt')\n",
    "alphabets = \"abcdefghijklmnopqrstuvwxyz\"\n",
    "print(cipherText, plainText)"
   ],
   "metadata": {
    "collapsed": false,
    "pycharm": {
     "name": "#%%\n"
    }
   }
  },
  {
   "cell_type": "markdown",
   "source": [
    "Now define the main function that returns the key value.\n",
    "In here we try all the possible 'a' and 'b' to find the real key."
   ],
   "metadata": {
    "collapsed": false,
    "pycharm": {
     "name": "#%% md\n"
    }
   }
  },
  {
   "cell_type": "code",
   "execution_count": 16,
   "outputs": [
    {
     "data": {
      "text/plain": "[25, 4]"
     },
     "execution_count": 16,
     "metadata": {},
     "output_type": "execute_result"
    }
   ],
   "source": [
    "import math\n",
    "\n",
    "\n",
    "def modInverse(y, m) :\n",
    "    y = y % m\n",
    "    for x in range(1, m) :\n",
    "        if (y * x) % m == 1 :\n",
    "            return x\n",
    "    return 1\n",
    "\n",
    "\n",
    "cipherText = cipherText.lower()\n",
    "my_keys = []\n",
    "for a in range(1,26,1):\n",
    "    for b in range(26):\n",
    "        if math.gcd(a,b)==1:   #as we know only 12*26 = 312 cases are there for Relative Prime.\n",
    "            temp = ''\n",
    "\n",
    "            a_inv = modInverse(a,26)\n",
    "            for ch in cipherText:\n",
    "                num = (alphabets.find(ch) - b ) *  a_inv     # Pi = [(Ci – b) * a^(-1) ] mod 26\n",
    "                num = num % 26\n",
    "                if num < 0:\n",
    "                    num = num + 26\n",
    "\n",
    "                temp = temp + alphabets[num]\n",
    "            if temp.__contains__(plainText):  #when predicted text is same as Plain text, keys has found.\n",
    "                if len(my_keys) != 0:\n",
    "                    break\n",
    "                my_keys = [a,b]\n",
    "\n",
    "my_keys"
   ],
   "metadata": {
    "collapsed": false,
    "pycharm": {
     "name": "#%%\n"
    }
   }
  },
  {
   "cell_type": "code",
   "execution_count": 17,
   "outputs": [],
   "source": [
    "# Hope you like it ;)"
   ],
   "metadata": {
    "collapsed": false,
    "pycharm": {
     "name": "#%%\n"
    }
   }
  }
 ],
 "metadata": {
  "kernelspec": {
   "display_name": "Python 3",
   "language": "python",
   "name": "python3"
  },
  "language_info": {
   "codemirror_mode": {
    "name": "ipython",
    "version": 2
   },
   "file_extension": ".py",
   "mimetype": "text/x-python",
   "name": "python",
   "nbconvert_exporter": "python",
   "pygments_lexer": "ipython2",
   "version": "2.7.6"
  }
 },
 "nbformat": 4,
 "nbformat_minor": 0
}