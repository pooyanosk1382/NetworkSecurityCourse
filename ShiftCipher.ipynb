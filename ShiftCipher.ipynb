{
 "cells": [
  {
   "cell_type": "code",
   "execution_count": 41,
   "outputs": [],
   "source": [
    "# This code is developed by Pooyan :D"
   ],
   "metadata": {
    "collapsed": false,
    "pycharm": {
     "name": "#%%\n"
    }
   }
  },
  {
   "cell_type": "markdown",
   "source": [
    "# Shift Cipher\n",
    "A Shift cipher is a simple method of encoding messages. Shift ciphers use a substitution method where letters in the alphabet are shifted by some fixed number of spaces to yield an encoding alphabet. A Caesar cipher with a shift of 1 would encode an A as a B, an M as an N, and a Z as an A, and so on."
   ],
   "metadata": {
    "collapsed": false,
    "pycharm": {
     "name": "#%% md\n"
    }
   }
  },
  {
   "cell_type": "markdown",
   "source": [
    "First define a function to remove all white spaces."
   ],
   "metadata": {
    "collapsed": false,
    "pycharm": {
     "name": "#%% md\n"
    }
   }
  },
  {
   "cell_type": "code",
   "execution_count": 42,
   "outputs": [],
   "source": [
    "def removeSpaces(text):\n",
    "    newText = \"\"\n",
    "    for i in text:\n",
    "        if i == \" \":\n",
    "            continue\n",
    "        else:\n",
    "            newText = newText + i\n",
    "    return newText"
   ],
   "metadata": {
    "collapsed": false,
    "pycharm": {
     "name": "#%%\n"
    }
   }
  },
  {
   "cell_type": "markdown",
   "source": [
    "Here we define the shift encryption as a function to get a text and return its cipher text."
   ],
   "metadata": {
    "collapsed": false,
    "pycharm": {
     "name": "#%% md\n"
    }
   }
  },
  {
   "cell_type": "code",
   "execution_count": 43,
   "outputs": [
    {
     "data": {
      "text/plain": "'CDEFGHIJKLMNOPQRSTUVWXYZAB'"
     },
     "execution_count": 43,
     "metadata": {},
     "output_type": "execute_result"
    }
   ],
   "source": [
    "def shiftEncrypt(plainText, key):\n",
    "    key = ord(key) - ord('A')\n",
    "    plainText = removeSpaces(plainText)\n",
    "    plainText = plainText.upper()\n",
    "    cipherText = \"\"\n",
    "    for character in plainText:\n",
    "        if character.isalpha():\n",
    "            stayInAlphabet = ord(character) + key\n",
    "            if stayInAlphabet > ord('Z'):\n",
    "                stayInAlphabet -= 26\n",
    "            finalLetter = chr(stayInAlphabet)\n",
    "            cipherText += finalLetter\n",
    "        cipherText += \"\"\n",
    "    return cipherText\n",
    "shiftEncrypt('abcdefgh ijklmnopqr stuvwxyz', 'C')"
   ],
   "metadata": {
    "collapsed": false,
    "pycharm": {
     "name": "#%%\n"
    }
   }
  },
  {
   "cell_type": "markdown",
   "source": [
    "As above, we can see that the encryption algorithm works correctly now we expand it for reading files and write its cipher text in another file."
   ],
   "metadata": {
    "collapsed": false,
    "pycharm": {
     "name": "#%% md\n"
    }
   }
  },
  {
   "cell_type": "code",
   "execution_count": 44,
   "outputs": [],
   "source": [
    "def shiftWriter(plainTextFile, CipherTextFile, shift):\n",
    "    plainText = plainTextFile.read()\n",
    "    cipherText = shiftEncrypt(plainText, shift)\n",
    "    CipherTextFile.write(cipherText)"
   ],
   "metadata": {
    "collapsed": false,
    "pycharm": {
     "name": "#%%\n"
    }
   }
  },
  {
   "cell_type": "code",
   "execution_count": 45,
   "outputs": [],
   "source": [
    "plainTextFile = open(\"shiftPlain.txt\", 'r')\n",
    "CipherTextFile = open(\"shiftCipher.txt\", 'w')\n",
    "shift = 'F'\n",
    "shiftWriter(plainTextFile, CipherTextFile, shift)"
   ],
   "metadata": {
    "collapsed": false,
    "pycharm": {
     "name": "#%%\n"
    }
   }
  },
  {
   "cell_type": "markdown",
   "source": [
    "Now we need to define a decryption function."
   ],
   "metadata": {
    "collapsed": false,
    "pycharm": {
     "name": "#%% md\n"
    }
   }
  },
  {
   "cell_type": "code",
   "execution_count": 46,
   "outputs": [
    {
     "data": {
      "text/plain": "'abcdefghijklmnopqrstuvwxyz'"
     },
     "execution_count": 46,
     "metadata": {},
     "output_type": "execute_result"
    }
   ],
   "source": [
    "def shiftDecrypt(cipherText, key):\n",
    "    key = ord(key) - ord('A')\n",
    "    cipherText = cipherText.lower()\n",
    "    plainText = \"\"\n",
    "    for character in cipherText:\n",
    "        if character.isalpha():\n",
    "            stayInAlphabet = ord(character) - key\n",
    "            if stayInAlphabet < ord('a'):\n",
    "                stayInAlphabet += 26\n",
    "            finalLetter = chr(stayInAlphabet)\n",
    "            plainText += finalLetter\n",
    "        plainText += \"\"\n",
    "    return plainText\n",
    "shiftDecrypt('CDEFGHIJKLMNOPQRSTUVWXYZAB', 'C')"
   ],
   "metadata": {
    "collapsed": false,
    "pycharm": {
     "name": "#%%\n"
    }
   }
  },
  {
   "cell_type": "markdown",
   "source": [
    "As above, we can see that the decryption algorithm works correctly now we can expand it for reading files and write its plain text in another file."
   ],
   "metadata": {
    "collapsed": false,
    "pycharm": {
     "name": "#%% md\n"
    }
   }
  },
  {
   "cell_type": "code",
   "execution_count": 47,
   "outputs": [],
   "source": [
    "# Hope you like it ;)"
   ],
   "metadata": {
    "collapsed": false,
    "pycharm": {
     "name": "#%%\n"
    }
   }
  }
 ],
 "metadata": {
  "kernelspec": {
   "display_name": "Python 3",
   "language": "python",
   "name": "python3"
  },
  "language_info": {
   "codemirror_mode": {
    "name": "ipython",
    "version": 2
   },
   "file_extension": ".py",
   "mimetype": "text/x-python",
   "name": "python",
   "nbconvert_exporter": "python",
   "pygments_lexer": "ipython2",
   "version": "2.7.6"
  }
 },
 "nbformat": 4,
 "nbformat_minor": 0
}