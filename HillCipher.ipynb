{
 "cells": [
  {
   "cell_type": "code",
   "execution_count": 30,
   "outputs": [],
   "source": [
    "# This code is developed by Pooyan :D"
   ],
   "metadata": {
    "collapsed": false,
    "pycharm": {
     "name": "#%%\n"
    }
   }
  },
  {
   "cell_type": "markdown",
   "source": [
    "# Hill Cipher\n",
    "Hill cipher is a polygraphic substitution cipher based on linear algebra.Each letter is represented by a number modulo 26. Often the simple scheme A = 0, B = 1, …, Z = 25 is used, but this is not an essential feature of the cipher. To encrypt a message, each block of n letters (considered as an n-component vector) is multiplied by an invertible n × n matrix, against modulus 26. To decrypt the message, each block is multiplied by the inverse of the matrix used for encryption.\n",
    "The matrix used for encryption is the cipher key, and it should be chosen randomly from the set of invertible n × n matrices (modulo 26)."
   ],
   "metadata": {
    "collapsed": false,
    "pycharm": {
     "name": "#%% md\n"
    }
   }
  },
  {
   "cell_type": "markdown",
   "source": [
    "First define a function to remove all white spaces."
   ],
   "metadata": {
    "collapsed": false,
    "pycharm": {
     "name": "#%% md\n"
    }
   }
  },
  {
   "cell_type": "code",
   "execution_count": 31,
   "outputs": [],
   "source": [
    "def removeSpaces(text):\n",
    "    newText = \"\"\n",
    "    for i in text:\n",
    "        if i == \" \":\n",
    "            continue\n",
    "        else:\n",
    "            newText = newText + i\n",
    "    return newText"
   ],
   "metadata": {
    "collapsed": false,
    "pycharm": {
     "name": "#%%\n"
    }
   }
  },
  {
   "cell_type": "markdown",
   "source": [
    "Here we define the Hill encryption as a function to get a text and return its cipher text."
   ],
   "metadata": {
    "collapsed": false,
    "pycharm": {
     "name": "#%% md\n"
    }
   }
  },
  {
   "cell_type": "code",
   "execution_count": 32,
   "outputs": [],
   "source": [
    "import numpy as np"
   ],
   "metadata": {
    "collapsed": false,
    "pycharm": {
     "name": "#%%\n"
    }
   }
  },
  {
   "cell_type": "markdown",
   "source": [
    "Now we define the key and its matrix.(it can be any size.)"
   ],
   "metadata": {
    "collapsed": false,
    "pycharm": {
     "name": "#%% md\n"
    }
   }
  },
  {
   "cell_type": "code",
   "execution_count": 33,
   "outputs": [
    {
     "data": {
      "text/plain": "matrix([[2, 0, 0],\n        [2, 2, 0],\n        [0, 2, 1]])"
     },
     "execution_count": 33,
     "metadata": {},
     "output_type": "execute_result"
    }
   ],
   "source": [
    "keySize = 3\n",
    "temp = [[] for i in range(keySize)]\n",
    "key = [2, 0, 0, 2, 2, 0, 0, 2, 1]\n",
    "ind = 0\n",
    "for i in range(keySize):\n",
    "    temp[i].append(key[ind:ind+3])\n",
    "    ind += keySize\n",
    "arr = np.array(temp)\n",
    "matrix = np.matrix(arr)\n",
    "matrix"
   ],
   "metadata": {
    "collapsed": false,
    "pycharm": {
     "name": "#%%\n"
    }
   }
  },
  {
   "cell_type": "markdown",
   "source": [
    "Now we define a function that take a string with size of key and key then encrypt that."
   ],
   "metadata": {
    "collapsed": false,
    "pycharm": {
     "name": "#%% md\n"
    }
   }
  },
  {
   "cell_type": "code",
   "execution_count": 34,
   "outputs": [
    {
     "data": {
      "text/plain": "'KWL'"
     },
     "execution_count": 34,
     "metadata": {},
     "output_type": "execute_result"
    }
   ],
   "source": [
    "def encrypt(string, key):\n",
    "    plain = [''] * len(string)\n",
    "    for i in range(len(string)):\n",
    "        plain[i] = ord(string[i]) - ord('a')\n",
    "    plainMatrix = np.matrix(plain)\n",
    "    cipher = plainMatrix * key\n",
    "    for i in cipher:\n",
    "        i %= 26\n",
    "        i += ord('A')\n",
    "    temp = cipher.tolist()\n",
    "    cipherText = temp[0]\n",
    "    for i in range(len(cipherText)):\n",
    "        cipherText[i] = chr(cipherText[i])\n",
    "    cipher = ''\n",
    "    for i in cipherText:\n",
    "        cipher += i\n",
    "    return cipher\n",
    "encrypt('sal', matrix)"
   ],
   "metadata": {
    "collapsed": false,
    "pycharm": {
     "name": "#%%\n"
    }
   }
  },
  {
   "cell_type": "markdown",
   "source": [
    "Here we define a function to encrypt a text completely."
   ],
   "metadata": {
    "collapsed": false,
    "pycharm": {
     "name": "#%% md\n"
    }
   }
  },
  {
   "cell_type": "code",
   "execution_count": 35,
   "outputs": [
    {
     "data": {
      "text/plain": "'KWLYSKCQBWGA'"
     },
     "execution_count": 35,
     "metadata": {},
     "output_type": "execute_result"
    }
   ],
   "source": [
    "def hillCipher(plainText, key):\n",
    "    plainText = removeSpaces(plainText)\n",
    "    while len(plainText) % len(key) != 0:\n",
    "        plainText += 'x'\n",
    "    cipher = ''\n",
    "    size = int(len(plainText) / len(key))\n",
    "    for i in range(size):\n",
    "        cipher += encrypt(''.join(plainText[i*3:i*3+3]), key)\n",
    "    return cipher\n",
    "hillCipher('salam khubi da', matrix)"
   ],
   "metadata": {
    "collapsed": false,
    "pycharm": {
     "name": "#%%\n"
    }
   }
  },
  {
   "cell_type": "markdown",
   "source": [
    "Now let's decrypt it.\n",
    "First we need the inverse matrix of key."
   ],
   "metadata": {
    "collapsed": false,
    "pycharm": {
     "name": "#%% md\n"
    }
   }
  },
  {
   "cell_type": "code",
   "execution_count": 36,
   "outputs": [
    {
     "name": "stdout",
     "output_type": "stream",
     "text": [
      "[[ 0.5  0.   0. ]\n",
      " [-0.5  0.5  0. ]\n",
      " [ 1.  -1.   1. ]]\n"
     ]
    }
   ],
   "source": [
    "inverse = np.linalg.inv(matrix)\n",
    "print(inverse)"
   ],
   "metadata": {
    "collapsed": false,
    "pycharm": {
     "name": "#%%\n"
    }
   }
  },
  {
   "cell_type": "markdown",
   "source": [
    "Now we define a function that take a string with size of key and key then decrypt that."
   ],
   "metadata": {
    "collapsed": false,
    "pycharm": {
     "name": "#%% md\n"
    }
   }
  },
  {
   "cell_type": "code",
   "execution_count": 37,
   "outputs": [
    {
     "data": {
      "text/plain": "'fal'"
     },
     "execution_count": 37,
     "metadata": {},
     "output_type": "execute_result"
    }
   ],
   "source": [
    "def decrypt(string, decryptKey):\n",
    "    cipher = [''] * len(string)\n",
    "    for i in range(len(string)):\n",
    "        cipher[i] = ord(string[i]) - ord('A')\n",
    "    cipherMatrix = np.matrix(cipher)\n",
    "    plain = cipherMatrix * decryptKey\n",
    "    for i in plain:\n",
    "        i %= 26\n",
    "        i += ord('a')\n",
    "    temp = plain.tolist()\n",
    "    plainText = temp[0]\n",
    "    for i in range(len(plainText)):\n",
    "        plainText[i] = chr(int(plainText[i]))\n",
    "    plain = ''\n",
    "    for i in plainText:\n",
    "        plain += i\n",
    "    return plain\n",
    "decrypt('KWL', inverse)"
   ],
   "metadata": {
    "collapsed": false,
    "pycharm": {
     "name": "#%%\n"
    }
   }
  },
  {
   "cell_type": "code",
   "execution_count": 38,
   "outputs": [
    {
     "data": {
      "text/plain": "'falnzkuhbida'"
     },
     "execution_count": 38,
     "metadata": {},
     "output_type": "execute_result"
    }
   ],
   "source": [
    "def hillCipher(cipherText, key):\n",
    "    while len(cipherText) % len(key) != 0:\n",
    "        cipherText += 'x'\n",
    "    plain = ''\n",
    "    size = int(len(cipherText) / len(key))\n",
    "    for i in range(size):\n",
    "        plain += decrypt(''.join(cipherText[i*3:i*3+3]), key)\n",
    "    return plain\n",
    "hillCipher('KWLYSKCQBWGA', inverse)"
   ],
   "metadata": {
    "collapsed": false,
    "pycharm": {
     "name": "#%%\n"
    }
   }
  },
  {
   "cell_type": "code",
   "execution_count": 39,
   "outputs": [],
   "source": [
    "# Hope you like it ;)"
   ],
   "metadata": {
    "collapsed": false,
    "pycharm": {
     "name": "#%%\n"
    }
   }
  }
 ],
 "metadata": {
  "kernelspec": {
   "display_name": "Python 3",
   "language": "python",
   "name": "python3"
  },
  "language_info": {
   "codemirror_mode": {
    "name": "ipython",
    "version": 2
   },
   "file_extension": ".py",
   "mimetype": "text/x-python",
   "name": "python",
   "nbconvert_exporter": "python",
   "pygments_lexer": "ipython2",
   "version": "2.7.6"
  }
 },
 "nbformat": 4,
 "nbformat_minor": 0
}