{
 "cells": [
  {
   "cell_type": "code",
   "execution_count": 10,
   "outputs": [],
   "source": [
    "# This code is developed by Pooyan :D"
   ],
   "metadata": {
    "collapsed": false,
    "pycharm": {
     "name": "#%%\n"
    }
   }
  },
  {
   "cell_type": "markdown",
   "source": [
    "# Hill Cipher\n",
    "Hill cipher is a polygraphic substitution cipher based on linear algebra.Each letter is represented by a number modulo 26. Often the simple scheme A = 0, B = 1, …, Z = 25 is used, but this is not an essential feature of the cipher. To encrypt a message, each block of n letters (considered as an n-component vector) is multiplied by an invertible n × n matrix, against modulus 26. To decrypt the message, each block is multiplied by the inverse of the matrix used for encryption.\n",
    "The matrix used for encryption is the cipher key, and it should be chosen randomly from the set of invertible n × n matrices (modulo 26)."
   ],
   "metadata": {
    "collapsed": false,
    "pycharm": {
     "name": "#%% md\n"
    }
   }
  },
  {
   "cell_type": "markdown",
   "source": [
    "Here we define the Hill encryption as a function to get a text and return its cipher text."
   ],
   "metadata": {
    "collapsed": false,
    "pycharm": {
     "name": "#%% md\n"
    }
   }
  },
  {
   "cell_type": "markdown",
   "source": [
    "First we define the arrays."
   ],
   "metadata": {
    "collapsed": false,
    "pycharm": {
     "name": "#%% md\n"
    }
   }
  },
  {
   "cell_type": "code",
   "execution_count": 2,
   "outputs": [],
   "source": [
    "keyMatrix = [[0] * 3 for i in range(3)]\n",
    "messageVector = [[0] for i in range(3)]\n",
    "cipherMatrix = [[0] for i in range(3)]"
   ],
   "metadata": {
    "collapsed": false,
    "pycharm": {
     "name": "#%%\n"
    }
   }
  },
  {
   "cell_type": "markdown",
   "source": [
    "Now we define a function to get key and make that a matrix of numbers."
   ],
   "metadata": {
    "collapsed": false,
    "pycharm": {
     "name": "#%% md\n"
    }
   }
  },
  {
   "cell_type": "code",
   "execution_count": 3,
   "outputs": [],
   "source": [
    "def getKeyMatrix(key):\n",
    "    k = 0\n",
    "    for i in range(3):\n",
    "        for j in range(3):\n",
    "            keyMatrix[i][j] = ord(key[k]) % 65\n",
    "            k += 1"
   ],
   "metadata": {
    "collapsed": false,
    "pycharm": {
     "name": "#%%\n"
    }
   }
  },
  {
   "cell_type": "markdown",
   "source": [
    "Now define the function that use the key and encrypt only one letter."
   ],
   "metadata": {
    "collapsed": false,
    "pycharm": {
     "name": "#%% md\n"
    }
   }
  },
  {
   "cell_type": "code",
   "execution_count": 4,
   "outputs": [],
   "source": [
    "def encrypt(messageVector):\n",
    "    for i in range(3):\n",
    "        for j in range(1):\n",
    "            cipherMatrix[i][j] = 0\n",
    "            for x in range(3):\n",
    "                cipherMatrix[i][j] += (keyMatrix[i][x] *\n",
    "                                       messageVector[x][j])\n",
    "            cipherMatrix[i][j] = cipherMatrix[i][j] % 26"
   ],
   "metadata": {
    "collapsed": false,
    "pycharm": {
     "name": "#%%\n"
    }
   }
  },
  {
   "cell_type": "markdown",
   "source": [
    "Here we define a function to encrypt three words."
   ],
   "metadata": {
    "collapsed": false,
    "pycharm": {
     "name": "#%% md\n"
    }
   }
  },
  {
   "cell_type": "code",
   "execution_count": 21,
   "outputs": [],
   "source": [
    "def hillCipherThree(message, key):\n",
    "    getKeyMatrix(key)\n",
    "    for i in range(3):\n",
    "        messageVector[i][0] = ord(message[i]) % 65\n",
    "    encrypt(messageVector)\n",
    "    CipherText = []\n",
    "    for i in range(3):\n",
    "        CipherText.append(chr(cipherMatrix[i][0] + 65))\n",
    "    print(\"\".join(CipherText), end=\"\")"
   ],
   "metadata": {
    "collapsed": false,
    "pycharm": {
     "name": "#%%\n"
    }
   }
  },
  {
   "cell_type": "markdown",
   "source": [
    "And here we define the main encryption function.\n",
    "In here we define three situations that we face.\n",
    "First situation is when length of message is Coefficient of 3.\n",
    "The second and third situation are same."
   ],
   "metadata": {
    "collapsed": false,
    "pycharm": {
     "name": "#%% md\n"
    }
   }
  },
  {
   "cell_type": "code",
   "execution_count": 32,
   "outputs": [],
   "source": [
    "def hillCipher(message, key):\n",
    "    firstLetterPos = 0\n",
    "    lastLetterPos = 3\n",
    "    if len(message) % 3 == 0:\n",
    "        while lastLetterPos <= len(message):\n",
    "            hillCipherThree(message[firstLetterPos:lastLetterPos], key)\n",
    "            firstLetterPos += 3\n",
    "            lastLetterPos += 3\n",
    "    elif len(message) % 3 == 1:\n",
    "        message = message + 'X'\n",
    "        message = message + 'X'\n",
    "        print(len(message), message)\n",
    "        while lastLetterPos <= len(message):\n",
    "            hillCipherThree(message[firstLetterPos:lastLetterPos], key)\n",
    "            firstLetterPos += 3\n",
    "            lastLetterPos += 3\n",
    "    else:\n",
    "        message = message + 'X'\n",
    "        print(len(message), message)\n",
    "        while lastLetterPos <= len(message):\n",
    "            hillCipherThree(message[firstLetterPos:lastLetterPos], key)\n",
    "            firstLetterPos += 3\n",
    "            lastLetterPos += 3"
   ],
   "metadata": {
    "collapsed": false,
    "pycharm": {
     "name": "#%%\n"
    }
   }
  },
  {
   "cell_type": "code",
   "execution_count": 34,
   "outputs": [
    {
     "name": "stdout",
     "output_type": "stream",
     "text": [
      "TFJIPIJVJFCPHAT"
     ]
    }
   ],
   "source": [
    "message = \"HELLOWHATSUPMAN\"\n",
    "key = \"GYBNQKURP\"\n",
    "hillCipher(message, key)"
   ],
   "metadata": {
    "collapsed": false,
    "pycharm": {
     "name": "#%%\n"
    }
   }
  },
  {
   "cell_type": "code",
   "execution_count": null,
   "outputs": [],
   "source": [
    "# Hope you like it ;)"
   ],
   "metadata": {
    "collapsed": false,
    "pycharm": {
     "name": "#%%\n"
    }
   }
  }
 ],
 "metadata": {
  "kernelspec": {
   "display_name": "Python 3",
   "language": "python",
   "name": "python3"
  },
  "language_info": {
   "codemirror_mode": {
    "name": "ipython",
    "version": 2
   },
   "file_extension": ".py",
   "mimetype": "text/x-python",
   "name": "python",
   "nbconvert_exporter": "python",
   "pygments_lexer": "ipython2",
   "version": "2.7.6"
  }
 },
 "nbformat": 4,
 "nbformat_minor": 0
}