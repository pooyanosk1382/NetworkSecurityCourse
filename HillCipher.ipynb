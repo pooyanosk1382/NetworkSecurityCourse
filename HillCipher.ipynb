{
 "cells": [
  {
   "cell_type": "code",
   "execution_count": 50,
   "outputs": [],
   "source": [
    "# This code is developed by Pooyan :D"
   ],
   "metadata": {
    "collapsed": false,
    "pycharm": {
     "name": "#%%\n"
    }
   }
  },
  {
   "cell_type": "markdown",
   "source": [
    "# Hill Cipher\n",
    "Hill cipher is a polygraphic substitution cipher based on linear algebra.Each letter is represented by a number modulo 26. Often the simple scheme A = 0, B = 1, …, Z = 25 is used, but this is not an essential feature of the cipher. To encrypt a message, each block of n letters (considered as an n-component vector) is multiplied by an invertible n × n matrix, against modulus 26. To decrypt the message, each block is multiplied by the inverse of the matrix used for encryption.\n",
    "The matrix used for encryption is the cipher key, and it should be chosen randomly from the set of invertible n × n matrices (modulo 26)."
   ],
   "metadata": {
    "collapsed": false,
    "pycharm": {
     "name": "#%% md\n"
    }
   }
  },
  {
   "cell_type": "markdown",
   "source": [
    "Here we define the Hill encryption as a function to get a text and return its cipher text."
   ],
   "metadata": {
    "collapsed": false,
    "pycharm": {
     "name": "#%% md\n"
    }
   }
  },
  {
   "cell_type": "code",
   "execution_count": 51,
   "outputs": [],
   "source": [
    "import numpy as np"
   ],
   "metadata": {
    "collapsed": false,
    "pycharm": {
     "name": "#%%\n"
    }
   }
  },
  {
   "cell_type": "markdown",
   "source": [
    "First we define the key and its matrix.(it can be any size.)"
   ],
   "metadata": {
    "collapsed": false,
    "pycharm": {
     "name": "#%% md\n"
    }
   }
  },
  {
   "cell_type": "code",
   "execution_count": 52,
   "outputs": [
    {
     "data": {
      "text/plain": "matrix([[17, 17,  5],\n        [21, 18, 21],\n        [ 2,  2, 19]])"
     },
     "execution_count": 52,
     "metadata": {},
     "output_type": "execute_result"
    }
   ],
   "source": [
    "keySize = 3\n",
    "temp = [[] for i in range(keySize)]\n",
    "key = [17, 17, 5, 21, 18, 21, 2, 2, 19]\n",
    "ind = 0\n",
    "for i in range(keySize):\n",
    "    temp[i].append(key[ind:ind+3])\n",
    "    ind += keySize\n",
    "arr = np.array(temp)\n",
    "matrix = np.matrix(arr)\n",
    "matrix"
   ],
   "metadata": {
    "collapsed": false,
    "pycharm": {
     "name": "#%%\n"
    }
   }
  },
  {
   "cell_type": "markdown",
   "source": [
    "Now we define a function that take a string with size of key and key then encrypt that."
   ],
   "metadata": {
    "collapsed": false,
    "pycharm": {
     "name": "#%% md\n"
    }
   }
  },
  {
   "cell_type": "code",
   "execution_count": 69,
   "outputs": [
    {
     "name": "stdout",
     "output_type": "stream",
     "text": [
      "[[ 5 15 11]]\n"
     ]
    },
    {
     "data": {
      "text/plain": "'FPL'"
     },
     "execution_count": 69,
     "metadata": {},
     "output_type": "execute_result"
    }
   ],
   "source": [
    "def encrypt(string, key):\n",
    "    plain = [''] * len(string)\n",
    "    for i in range(len(string)):\n",
    "        plain[i] = ord(string[i]) - ord('a')\n",
    "    plainMatrix = np.matrix(plain)\n",
    "    cipher = plainMatrix * key\n",
    "    for i in cipher:\n",
    "        i %= 26\n",
    "        print(cipher)\n",
    "        i += ord('A')\n",
    "    temp = cipher.tolist()\n",
    "    cipherText = temp[0]\n",
    "    for i in range(len(cipherText)):\n",
    "        cipherText[i] = chr(cipherText[i])\n",
    "    cipher = ''\n",
    "    for i in cipherText:\n",
    "        cipher += i\n",
    "    return cipher\n",
    "encrypt('poo', matrix)"
   ],
   "metadata": {
    "collapsed": false,
    "pycharm": {
     "name": "#%%\n"
    }
   }
  },
  {
   "cell_type": "markdown",
   "source": [
    "Here we define a function to encrypt a text completely."
   ],
   "metadata": {
    "collapsed": false,
    "pycharm": {
     "name": "#%% md\n"
    }
   }
  },
  {
   "cell_type": "code",
   "execution_count": 71,
   "outputs": [
    {
     "name": "stdout",
     "output_type": "stream",
     "text": [
      "[[16 16 13]]\n",
      "[[12  2  0]]\n",
      "[[21 13  6]]\n",
      "[[17  8 25]]\n"
     ]
    },
    {
     "data": {
      "text/plain": "'QQNMCAVNGRIZ'"
     },
     "execution_count": 71,
     "metadata": {},
     "output_type": "execute_result"
    }
   ],
   "source": [
    "def hillCipher(plainText, key):\n",
    "    while len(plainText) % len(key) != 0:\n",
    "        plainText += 'x'\n",
    "    cipher = ''\n",
    "    size = int(len(plainText) / len(key))\n",
    "    for i in range(size):\n",
    "        cipher += encrypt(''.join(plainText[i*3:i*3+3]), key)\n",
    "    return cipher\n",
    "hillCipher('salamkhubida', matrix)"
   ],
   "metadata": {
    "collapsed": false,
    "pycharm": {
     "name": "#%%\n"
    }
   }
  },
  {
   "cell_type": "code",
   "execution_count": null,
   "outputs": [],
   "source": [],
   "metadata": {
    "collapsed": false,
    "pycharm": {
     "name": "#%%\n"
    }
   }
  }
 ],
 "metadata": {
  "kernelspec": {
   "display_name": "Python 3",
   "language": "python",
   "name": "python3"
  },
  "language_info": {
   "codemirror_mode": {
    "name": "ipython",
    "version": 2
   },
   "file_extension": ".py",
   "mimetype": "text/x-python",
   "name": "python",
   "nbconvert_exporter": "python",
   "pygments_lexer": "ipython2",
   "version": "2.7.6"
  }
 },
 "nbformat": 4,
 "nbformat_minor": 0
}