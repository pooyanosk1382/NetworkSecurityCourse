{
 "cells": [
  {
   "cell_type": "code",
   "execution_count": 53,
   "outputs": [],
   "source": [
    "# This code is developed by Pooyan :D"
   ],
   "metadata": {
    "collapsed": false,
    "pycharm": {
     "name": "#%%\n"
    }
   }
  },
  {
   "cell_type": "markdown",
   "source": [
    "# Permutation cipher\n",
    "In cryptography, a transposition cipher (also known as a permutation cipher) is a method of encryption which scrambles the positions of characters (transposition) without changing the characters themselves. Transposition ciphers reorder units of plaintext (typically characters or groups of characters) according to a regular system to produce a ciphertext which is a permutation of the plaintext. They differ from substitution ciphers, which do not change the position of units of plaintext but instead change the units themselves. Despite the difference between transposition and substitution operations, they are often combined, as in historical ciphers like the ADFGVX cipher or complex high-quality encryption methods like the modern Advanced Encryption Standard (AES)."
   ],
   "metadata": {
    "collapsed": false,
    "pycharm": {
     "name": "#%% md\n"
    }
   }
  },
  {
   "cell_type": "markdown",
   "source": [
    "First, we define the key size and encrypt key."
   ],
   "metadata": {
    "collapsed": false,
    "pycharm": {
     "name": "#%% md\n"
    }
   }
  },
  {
   "cell_type": "code",
   "execution_count": 54,
   "outputs": [],
   "source": [
    "encryptKey = [6, 5, 1, 7, 2, 4, 3]"
   ],
   "metadata": {
    "collapsed": false,
    "pycharm": {
     "name": "#%%\n"
    }
   }
  },
  {
   "cell_type": "markdown",
   "source": [
    "Now define a function to encrypt a text with the size of key."
   ],
   "metadata": {
    "collapsed": false,
    "pycharm": {
     "name": "#%% md\n"
    }
   }
  },
  {
   "cell_type": "code",
   "execution_count": 55,
   "outputs": [
    {
     "name": "stdout",
     "output_type": "stream",
     "text": [
      "aasmala\n"
     ]
    }
   ],
   "source": [
    "def encrypt(string, key):\n",
    "    cipher = ''\n",
    "    for i in range(len(key)):\n",
    "        cipher = cipher + string[key[i]-1]\n",
    "    return cipher\n",
    "print(encrypt('saalaam', encryptKey))"
   ],
   "metadata": {
    "collapsed": false,
    "pycharm": {
     "name": "#%%\n"
    }
   }
  },
  {
   "cell_type": "markdown",
   "source": [
    "Now define a function to check the size of plain text and add x if it needs."
   ],
   "metadata": {
    "collapsed": false,
    "pycharm": {
     "name": "#%% md\n"
    }
   }
  },
  {
   "cell_type": "code",
   "execution_count": 56,
   "outputs": [
    {
     "data": {
      "text/plain": "'asdssx'"
     },
     "execution_count": 56,
     "metadata": {},
     "output_type": "execute_result"
    }
   ],
   "source": [
    "def checker(plainText, size):\n",
    "    while len(plainText) % size != 0:\n",
    "        plainText = plainText + 'x'\n",
    "    return plainText\n",
    "checker('asdss', 2)"
   ],
   "metadata": {
    "collapsed": false,
    "pycharm": {
     "name": "#%%\n"
    }
   }
  },
  {
   "cell_type": "markdown",
   "source": [
    "Now define a function to divides the plain text and encrypt each part."
   ],
   "metadata": {
    "collapsed": false,
    "pycharm": {
     "name": "#%% md\n"
    }
   }
  },
  {
   "cell_type": "code",
   "execution_count": 57,
   "outputs": [
    {
     "data": {
      "text/plain": "'kmshaalehutbciehokrcixrhxaab'"
     },
     "execution_count": 57,
     "metadata": {},
     "output_type": "execute_result"
    }
   ],
   "source": [
    "def permutationEncrypt(plainText, key):\n",
    "    plainText = checker(plainText, len(key))\n",
    "    cipherText = ''\n",
    "    n = int(len(plainText)/len(key))\n",
    "    start = 0\n",
    "    end = len(key)\n",
    "    for i in range(n):\n",
    "        cipherText += encrypt(plainText[start:end], key)\n",
    "        start += len(key)\n",
    "        end += len(key)\n",
    "    return cipherText\n",
    "permutationEncrypt(\"salamkhubichetorichekhabar\", encryptKey)"
   ],
   "metadata": {
    "collapsed": false,
    "pycharm": {
     "name": "#%%\n"
    }
   }
  },
  {
   "cell_type": "markdown",
   "source": [
    "Now our encryption is finished.\n",
    "Now we need to work on decryption.\n",
    "At first, define a function that get a key and create its reverse."
   ],
   "metadata": {
    "collapsed": false,
    "pycharm": {
     "name": "#%% md\n"
    }
   }
  },
  {
   "cell_type": "code",
   "execution_count": 58,
   "outputs": [
    {
     "name": "stdout",
     "output_type": "stream",
     "text": [
      "[3, 5, 7, 6, 2, 1, 4]\n"
     ]
    }
   ],
   "source": [
    "def decryptionKeyMaker(key):\n",
    "    decryptionKey = [0] * len(key)\n",
    "    for i in range(len(key)):\n",
    "        decryptionKey[key[i]-1] = i + 1\n",
    "    return decryptionKey\n",
    "decryptionKey = decryptionKeyMaker(encryptKey)\n",
    "print(decryptionKey)"
   ],
   "metadata": {
    "collapsed": false,
    "pycharm": {
     "name": "#%%\n"
    }
   }
  },
  {
   "cell_type": "markdown",
   "source": [
    "Now decrypt function is same as encrypt function."
   ],
   "metadata": {
    "collapsed": false,
    "pycharm": {
     "name": "#%% md\n"
    }
   }
  },
  {
   "cell_type": "code",
   "execution_count": 59,
   "outputs": [
    {
     "name": "stdout",
     "output_type": "stream",
     "text": [
      "saalaam\n"
     ]
    }
   ],
   "source": [
    "def decrypt(string, key):\n",
    "    cipher = ''\n",
    "    for i in range(len(key)):\n",
    "        cipher = cipher + string[key[i]-1]\n",
    "    return cipher\n",
    "print(decrypt('aasmala', decryptionKey))"
   ],
   "metadata": {
    "collapsed": false,
    "pycharm": {
     "name": "#%%\n"
    }
   }
  },
  {
   "cell_type": "markdown",
   "source": [
    "Also, decryption of permutation function is same as encryption."
   ],
   "metadata": {
    "collapsed": false,
    "pycharm": {
     "name": "#%% md\n"
    }
   }
  },
  {
   "cell_type": "code",
   "execution_count": 60,
   "outputs": [
    {
     "data": {
      "text/plain": "'salamkhubichetorichekhabarxx'"
     },
     "execution_count": 60,
     "metadata": {},
     "output_type": "execute_result"
    }
   ],
   "source": [
    "def permutationDecrypt(cipherText, key):\n",
    "    plainText = ''\n",
    "    n = int(len(cipherText)/len(key))\n",
    "    start = 0\n",
    "    end = len(key)\n",
    "    for i in range(n):\n",
    "        plainText += decrypt(cipherText[start:end], key)\n",
    "        start += len(key)\n",
    "        end += len(key)\n",
    "    return plainText\n",
    "permutationDecrypt(\"kmshaalehutbciehokrcixrhxaab\", decryptionKey)"
   ],
   "metadata": {
    "collapsed": false,
    "pycharm": {
     "name": "#%%\n"
    }
   }
  },
  {
   "cell_type": "markdown",
   "source": [
    "Now decrypt is complete too."
   ],
   "metadata": {
    "collapsed": false,
    "pycharm": {
     "name": "#%% md\n"
    }
   }
  },
  {
   "cell_type": "code",
   "execution_count": 61,
   "outputs": [],
   "source": [
    "# Hope you like it :)"
   ],
   "metadata": {
    "collapsed": false,
    "pycharm": {
     "name": "#%%\n"
    }
   }
  }
 ],
 "metadata": {
  "kernelspec": {
   "display_name": "Python 3",
   "language": "python",
   "name": "python3"
  },
  "language_info": {
   "codemirror_mode": {
    "name": "ipython",
    "version": 2
   },
   "file_extension": ".py",
   "mimetype": "text/x-python",
   "name": "python",
   "nbconvert_exporter": "python",
   "pygments_lexer": "ipython2",
   "version": "2.7.6"
  }
 },
 "nbformat": 4,
 "nbformat_minor": 0
}